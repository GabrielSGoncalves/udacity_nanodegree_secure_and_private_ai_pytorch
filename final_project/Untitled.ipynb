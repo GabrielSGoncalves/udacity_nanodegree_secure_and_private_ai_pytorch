{
 "cells": [
  {
   "cell_type": "code",
   "execution_count": 6,
   "metadata": {},
   "outputs": [],
   "source": [
    "import os\n",
    "import re"
   ]
  },
  {
   "cell_type": "code",
   "execution_count": 2,
   "metadata": {},
   "outputs": [
    {
     "name": "stdout",
     "output_type": "stream",
     "text": [
      "chef_bob_notebook.ipynb            pytorch_study.ipynb\n",
      "dog_breeds_weight_filtered.tsv     transfer_learning_dog_breed.ipynb\n",
      "dog_breeds_weight.tsv              Transfer_learning_nb_Will_Koehrsen.ipynb\n",
      "\u001b[0m\u001b[01;34mdownloads\u001b[0m/                         Untitled.ipynb\n",
      "google_image_download_study.ipynb  use-pretrained-pytorch-models.ipynb\n",
      "models.csv\n"
     ]
    }
   ],
   "source": [
    "ls\n"
   ]
  },
  {
   "cell_type": "code",
   "execution_count": 3,
   "metadata": {},
   "outputs": [
    {
     "name": "stdout",
     "output_type": "stream",
     "text": [
      "/home/gabriel/Documents/Datasets/stanford_dogs_dataset/images/Images_processed\n"
     ]
    }
   ],
   "source": [
    "cd /home/gabriel/Documents/Datasets/stanford_dogs_dataset/images/Images_processed"
   ]
  },
  {
   "cell_type": "code",
   "execution_count": 8,
   "metadata": {},
   "outputs": [
    {
     "data": {
      "text/plain": [
       "'Chihuahua'"
      ]
     },
     "execution_count": 8,
     "metadata": {},
     "output_type": "execute_result"
    }
   ],
   "source": [
    "name = 'n02085620-Chihuahua'.split('-')[1]\n",
    "name"
   ]
  },
  {
   "cell_type": "code",
   "execution_count": 9,
   "metadata": {},
   "outputs": [],
   "source": [
    "os.rename('n02085620-Chihuahua_2', name)"
   ]
  },
  {
   "cell_type": "code",
   "execution_count": 11,
   "metadata": {},
   "outputs": [],
   "source": [
    "for folder in os.listdir('.'):\n",
    "    os.rename(folder, folder.split('-')[1])"
   ]
  },
  {
   "cell_type": "code",
   "execution_count": null,
   "metadata": {},
   "outputs": [],
   "source": []
  }
 ],
 "metadata": {
  "kernelspec": {
   "display_name": "pytorch",
   "language": "python",
   "name": "pytorch"
  },
  "language_info": {
   "codemirror_mode": {
    "name": "ipython",
    "version": 3
   },
   "file_extension": ".py",
   "mimetype": "text/x-python",
   "name": "python",
   "nbconvert_exporter": "python",
   "pygments_lexer": "ipython3",
   "version": "3.7.3"
  }
 },
 "nbformat": 4,
 "nbformat_minor": 4
}
