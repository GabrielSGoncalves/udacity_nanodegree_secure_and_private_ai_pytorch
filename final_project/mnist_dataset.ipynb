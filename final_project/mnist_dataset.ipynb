{
 "cells": [
  {
   "cell_type": "code",
   "execution_count": 1,
   "metadata": {},
   "outputs": [],
   "source": [
    "import torch\n",
    "import torch.nn as nn\n",
    "import torchvision\n",
    "from torchvision import transforms"
   ]
  },
  {
   "cell_type": "code",
   "execution_count": 4,
   "metadata": {},
   "outputs": [],
   "source": [
    "train_dataset = torchvision.datasets.MNIST(root='./data',train=True, transform=transforms.ToTensor(), download=True)\n",
    "\n",
    "test_dataset = torchvision.datasets.MNIST(root='./data',train=False, transform=transforms.ToTensor(),download = True)\n",
    "\n",
    "\n",
    "train_loader = torch.utils.data.DataLoader(dataset=train_dataset, batch_size=100, shuffle=True)\n",
    "\n",
    "test_loader = torch.utils.data.DataLoader(dataset=test_dataset,  batch_size=100, shuffle=False)"
   ]
  },
  {
   "cell_type": "code",
   "execution_count": null,
   "metadata": {},
   "outputs": [],
   "source": []
  },
  {
   "cell_type": "code",
   "execution_count": 11,
   "metadata": {},
   "outputs": [],
   "source": [
    "device = torch.device('cuda' if torch.cuda.is_available() else 'cpu')\n"
   ]
  },
  {
   "cell_type": "code",
   "execution_count": 6,
   "metadata": {},
   "outputs": [],
   "source": [
    "class NeuralNet(nn.Module):\n",
    "    \"\"\"A Neural Network with a hidden layer\"\"\"\n",
    "    def __init__(self, input_size,hidden_size,output_size):\n",
    "        super(NeuralNet, self).__init__()\n",
    "        self.layer1 = nn.Linear(input_size, hidden_size)\n",
    "        self.layer2 = nn.Linear(hidden_size, output_size)\n",
    "        self.relu = nn.ReLU()\n",
    "\n",
    "    def forward(self, x):\n",
    "        output = self.layer1(x)\n",
    "        output = self.relu(output)\n",
    "        output = self.layer2(output)\n",
    "        return output"
   ]
  },
  {
   "cell_type": "code",
   "execution_count": 14,
   "metadata": {},
   "outputs": [],
   "source": [
    "# Hyper-parameters \n",
    "input_size = 784\n",
    "hidden_size = 500\n",
    "num_classes = 10\n",
    "num_epochs = 5\n",
    "batch_size = 100\n",
    "learning_rate = 0.001\n",
    "\n",
    "model = NeuralNet(input_size, hidden_size, num_classes).to(device)\n",
    "\n",
    "# Loss and optimizer\n",
    "criterion = nn.CrossEntropyLoss()\n",
    "optimizer = torch.optim.Adam(model.parameters(), lr=learning_rate)  \n"
   ]
  },
  {
   "cell_type": "code",
   "execution_count": 15,
   "metadata": {},
   "outputs": [
    {
     "name": "stdout",
     "output_type": "stream",
     "text": [
      "Epoch [1/5], Step [100/600], Loss: 0.3936\n",
      "Epoch [1/5], Step [200/600], Loss: 0.3363\n",
      "Epoch [1/5], Step [300/600], Loss: 0.2376\n",
      "Epoch [1/5], Step [400/600], Loss: 0.2413\n",
      "Epoch [1/5], Step [500/600], Loss: 0.1739\n",
      "Epoch [1/5], Step [600/600], Loss: 0.2084\n",
      "Epoch [2/5], Step [100/600], Loss: 0.1560\n",
      "Epoch [2/5], Step [200/600], Loss: 0.1561\n",
      "Epoch [2/5], Step [300/600], Loss: 0.0383\n",
      "Epoch [2/5], Step [400/600], Loss: 0.1251\n",
      "Epoch [2/5], Step [500/600], Loss: 0.0544\n",
      "Epoch [2/5], Step [600/600], Loss: 0.0838\n",
      "Epoch [3/5], Step [100/600], Loss: 0.0517\n",
      "Epoch [3/5], Step [200/600], Loss: 0.0421\n",
      "Epoch [3/5], Step [300/600], Loss: 0.0498\n",
      "Epoch [3/5], Step [400/600], Loss: 0.0332\n",
      "Epoch [3/5], Step [500/600], Loss: 0.0798\n",
      "Epoch [3/5], Step [600/600], Loss: 0.1522\n",
      "Epoch [4/5], Step [100/600], Loss: 0.0506\n",
      "Epoch [4/5], Step [200/600], Loss: 0.0733\n",
      "Epoch [4/5], Step [300/600], Loss: 0.0275\n",
      "Epoch [4/5], Step [400/600], Loss: 0.0468\n",
      "Epoch [4/5], Step [500/600], Loss: 0.0698\n",
      "Epoch [4/5], Step [600/600], Loss: 0.0759\n",
      "Epoch [5/5], Step [100/600], Loss: 0.0947\n",
      "Epoch [5/5], Step [200/600], Loss: 0.0392\n",
      "Epoch [5/5], Step [300/600], Loss: 0.0125\n",
      "Epoch [5/5], Step [400/600], Loss: 0.0258\n",
      "Epoch [5/5], Step [500/600], Loss: 0.0267\n",
      "Epoch [5/5], Step [600/600], Loss: 0.0397\n"
     ]
    }
   ],
   "source": [
    "# Train the model\n",
    "total_step = len(train_loader)\n",
    "for epoch in range(num_epochs):\n",
    "    for i, (images, labels) in enumerate(train_loader):  \n",
    "        # Move tensors to the configured device\n",
    "        images = images.reshape(-1, 28*28).to(device)\n",
    "        labels = labels.to(device)\n",
    "        \n",
    "        # Forward pass\n",
    "        outputs = model(images)\n",
    "        loss = criterion(outputs, labels)\n",
    "        \n",
    "        # Backward and optimize\n",
    "        optimizer.zero_grad()\n",
    "        loss.backward()\n",
    "        optimizer.step()\n",
    "        \n",
    "        if (i+1) % 100 == 0:\n",
    "            print ('Epoch [{}/{}], Step [{}/{}], Loss: {:.4f}' \n",
    "                   .format(epoch+1, num_epochs, i+1, total_step, loss.item()))\n"
   ]
  },
  {
   "cell_type": "code",
   "execution_count": 16,
   "metadata": {},
   "outputs": [
    {
     "name": "stdout",
     "output_type": "stream",
     "text": [
      "Accuracy of the network on the 10000 test images: 97.81 %\n"
     ]
    }
   ],
   "source": [
    "# In test phase, we don't need to compute gradients (for memory efficiency)\n",
    "with torch.no_grad():\n",
    "    correct = 0\n",
    "    total = 0\n",
    "    for images, labels in test_loader:\n",
    "        images = images.reshape(-1, 28*28).to(device)\n",
    "        labels = labels.to(device)\n",
    "        outputs = model(images)\n",
    "        _, predicted = torch.max(outputs.data, 1)\n",
    "        total += labels.size(0)\n",
    "        correct += (predicted == labels).sum().item()\n",
    "\n",
    "    print('Accuracy of the network on the 10000 test images: {} %'.format(100 * correct / total))\n",
    "\n",
    "# Save the model checkpoint\n",
    "torch.save(model.state_dict(), 'model.ckpt')"
   ]
  },
  {
   "cell_type": "markdown",
   "metadata": {},
   "source": [
    "### Reading the original MNIST dataset in IDX format\n",
    "From https://medium.com/@mannasiladittya/converting-mnist-data-in-idx-format-to-python-numpy-array-5cb9126f99f1"
   ]
  },
  {
   "cell_type": "code",
   "execution_count": 2,
   "metadata": {},
   "outputs": [],
   "source": [
    "# Import the libraries\n",
    "import struct as st\n",
    "import numpy as np"
   ]
  },
  {
   "cell_type": "code",
   "execution_count": 6,
   "metadata": {},
   "outputs": [],
   "source": [
    "# Open the IDX file in readable binary mode.\n",
    "filename = {'images' : './data/MNIST_original_dataset/train-images-idx3-ubyte' ,\n",
    "            'labels' : './data/MNIST_original_dataset/train-labels-idx1-ubyte'}\n",
    "train_imagesfile = open(filename['images'],'rb')"
   ]
  },
  {
   "cell_type": "code",
   "execution_count": null,
   "metadata": {},
   "outputs": [],
   "source": []
  },
  {
   "cell_type": "code",
   "execution_count": 7,
   "metadata": {},
   "outputs": [],
   "source": [
    "# Fourth Step : Read the dimensions of the Image data-set\n",
    "nImg = st.unpack('>I',train_imagesfile.read(4))[0] #num of images\n",
    "nR = st.unpack('>I',train_imagesfile.read(4))[0] #num of rows\n",
    "nC = st.unpack('>I',train_imagesfile.read(4))[0] #num of column"
   ]
  },
  {
   "cell_type": "code",
   "execution_count": 8,
   "metadata": {},
   "outputs": [
    {
     "ename": "MemoryError",
     "evalue": "",
     "output_type": "error",
     "traceback": [
      "\u001b[0;31m---------------------------------------------------------------------------\u001b[0m",
      "\u001b[0;31mMemoryError\u001b[0m                               Traceback (most recent call last)",
      "\u001b[0;32m<ipython-input-8-564cb3417b2d>\u001b[0m in \u001b[0;36m<module>\u001b[0;34m\u001b[0m\n\u001b[1;32m      1\u001b[0m \u001b[0;31m# Fifth Step : Declare Image NumPy array (Optional, not required in this case)\u001b[0m\u001b[0;34m\u001b[0m\u001b[0;34m\u001b[0m\u001b[0;34m\u001b[0m\u001b[0m\n\u001b[0;32m----> 2\u001b[0;31m \u001b[0mimages_array\u001b[0m \u001b[0;34m=\u001b[0m \u001b[0mnp\u001b[0m\u001b[0;34m.\u001b[0m\u001b[0mzeros\u001b[0m\u001b[0;34m(\u001b[0m\u001b[0;34m(\u001b[0m\u001b[0mnImg\u001b[0m\u001b[0;34m,\u001b[0m\u001b[0mnR\u001b[0m\u001b[0;34m,\u001b[0m\u001b[0mnC\u001b[0m\u001b[0;34m)\u001b[0m\u001b[0;34m)\u001b[0m\u001b[0;34m\u001b[0m\u001b[0;34m\u001b[0m\u001b[0m\n\u001b[0m",
      "\u001b[0;31mMemoryError\u001b[0m: "
     ]
    }
   ],
   "source": [
    "# Fifth Step : Declare Image NumPy array (Optional, not required in this case)\n",
    "images_array = np.zeros((nImg,nR,nC))"
   ]
  },
  {
   "cell_type": "code",
   "execution_count": 16,
   "metadata": {},
   "outputs": [
    {
     "ename": "MemoryError",
     "evalue": "",
     "output_type": "error",
     "traceback": [
      "\u001b[0;31m---------------------------------------------------------------------------\u001b[0m",
      "\u001b[0;31mMemoryError\u001b[0m                               Traceback (most recent call last)",
      "\u001b[0;32m<ipython-input-16-c5d82cfa7b26>\u001b[0m in \u001b[0;36m<module>\u001b[0;34m\u001b[0m\n\u001b[1;32m      1\u001b[0m \u001b[0;31m# Sixth Step : Reading the Image data\u001b[0m\u001b[0;34m\u001b[0m\u001b[0;34m\u001b[0m\u001b[0;34m\u001b[0m\u001b[0m\n\u001b[1;32m      2\u001b[0m \u001b[0mnBytesTotal\u001b[0m \u001b[0;34m=\u001b[0m \u001b[0mnImg\u001b[0m\u001b[0;34m*\u001b[0m\u001b[0mnR\u001b[0m\u001b[0;34m*\u001b[0m\u001b[0mnC\u001b[0m\u001b[0;34m*\u001b[0m\u001b[0;36m1\u001b[0m \u001b[0;31m#since each pixel data is 1 byte\u001b[0m\u001b[0;34m\u001b[0m\u001b[0;34m\u001b[0m\u001b[0m\n\u001b[0;32m----> 3\u001b[0;31m \u001b[0mimages_array\u001b[0m \u001b[0;34m=\u001b[0m \u001b[0;36m255\u001b[0m \u001b[0;34m-\u001b[0m \u001b[0mnp\u001b[0m\u001b[0;34m.\u001b[0m\u001b[0masarray\u001b[0m\u001b[0;34m(\u001b[0m\u001b[0mst\u001b[0m\u001b[0;34m.\u001b[0m\u001b[0munpack\u001b[0m\u001b[0;34m(\u001b[0m\u001b[0;34m'>'\u001b[0m\u001b[0;34m+\u001b[0m\u001b[0;34m'B'\u001b[0m\u001b[0;34m*\u001b[0m\u001b[0mnBytesTotal\u001b[0m\u001b[0;34m,\u001b[0m \u001b[0mtrain_imagesfile\u001b[0m\u001b[0;34m.\u001b[0m\u001b[0mread\u001b[0m\u001b[0;34m(\u001b[0m\u001b[0mnBytesTotal\u001b[0m\u001b[0;34m)\u001b[0m\u001b[0;34m)\u001b[0m\u001b[0;34m)\u001b[0m\u001b[0;34m.\u001b[0m\u001b[0mreshape\u001b[0m\u001b[0;34m(\u001b[0m\u001b[0;34m(\u001b[0m\u001b[0mnImg\u001b[0m\u001b[0;34m,\u001b[0m\u001b[0mnR\u001b[0m\u001b[0;34m,\u001b[0m\u001b[0mnC\u001b[0m\u001b[0;34m)\u001b[0m\u001b[0;34m)\u001b[0m\u001b[0;34m\u001b[0m\u001b[0;34m\u001b[0m\u001b[0m\n\u001b[0m",
      "\u001b[0;31mMemoryError\u001b[0m: "
     ]
    }
   ],
   "source": [
    "# Sixth Step : Reading the Image data\n",
    "nBytesTotal = nImg*nR*nC*1 #since each pixel data is 1 byte\n",
    "images_array = 255 - np.asarray(st.unpack('>'+'B'*nBytesTotal, train_imagesfile.read(nBytesTotal))).reshape((nImg,nR,nC))"
   ]
  },
  {
   "cell_type": "code",
   "execution_count": null,
   "metadata": {},
   "outputs": [],
   "source": [
    "images_array"
   ]
  },
  {
   "cell_type": "code",
   "execution_count": 11,
   "metadata": {},
   "outputs": [],
   "source": [
    "### Reading the Kaggle Dataset\n",
    "import pandas as pd\n",
    "df_train = pd.read_csv('./data/train.csv')\n",
    "df_test = pd.read_csv('./data/test.csv')"
   ]
  },
  {
   "cell_type": "code",
   "execution_count": 12,
   "metadata": {},
   "outputs": [],
   "source": [
    "df_features = df_train.iloc[:, 1:785]\n",
    "df_label = df_train.iloc[:, 0]\n",
    "\n",
    "df_features = df_train.iloc[:, 1:785]\n",
    "df_label = df_train.iloc[:, 0]"
   ]
  },
  {
   "cell_type": "code",
   "execution_count": 13,
   "metadata": {},
   "outputs": [],
   "source": [
    "### Keyur Paralkar Notebook on Kaggle\n",
    "import torch\n",
    "import torch.nn as nn\n",
    "import torch.nn.functional as F\n",
    "import torchvision\n",
    "import matplotlib.pyplot as plt\n",
    "import torchvision.transforms as transforms\n",
    "import numpy as np\n",
    "import pandas as pd\n",
    "\n",
    "from PIL import Image"
   ]
  },
  {
   "cell_type": "code",
   "execution_count": 14,
   "metadata": {},
   "outputs": [],
   "source": [
    "%reload_ext autoreload\n",
    "%autoreload 2\n",
    "%matplotlib inline"
   ]
  },
  {
   "cell_type": "code",
   "execution_count": 15,
   "metadata": {},
   "outputs": [],
   "source": [
    "PATH = './data/'\n"
   ]
  },
  {
   "cell_type": "code",
   "execution_count": 16,
   "metadata": {},
   "outputs": [],
   "source": [
    "def return_data_label(fileName):\n",
    "    df = pd.read_csv(filepath_or_buffer=PATH+fileName)\n",
    "    if(fileName != 'test.csv'):\n",
    "        label = np.array(df['label'])\n",
    "        data = np.array(df[df.columns[1:]],dtype=np.float)\n",
    "        new_data = np.reshape(a=data,newshape=(data.shape[0],28,28))\n",
    "        return new_data, label\n",
    "    else:\n",
    "        data = np.array(df,dtype=np.float)\n",
    "        new_data = np.reshape(a=data,newshape=(data.shape[0],28,28))\n",
    "        return new_data"
   ]
  },
  {
   "cell_type": "code",
   "execution_count": 17,
   "metadata": {},
   "outputs": [],
   "source": [
    "trainData, trainLabel = return_data_label('train.csv')\n",
    "testData = return_data_label('test.csv')"
   ]
  },
  {
   "cell_type": "code",
   "execution_count": 18,
   "metadata": {},
   "outputs": [],
   "source": [
    "#preprocessing the dataset\n",
    "trainData = trainData / 255\n",
    "trainData = (trainData - 0.5)/0.5\n",
    "\n",
    "testData = testData / 255\n",
    "testData = (testData - 0.5)/0.5\n",
    "\n",
    "trainData = torch.from_numpy(trainData)\n",
    "testData = torch.from_numpy(testData)\n",
    "trainData, testData = trainData.type(torch.FloatTensor), testData.type(torch.FloatTensor)"
   ]
  },
  {
   "cell_type": "code",
   "execution_count": 19,
   "metadata": {},
   "outputs": [],
   "source": [
    "trainData = trainData.unsqueeze_(dim=1)\n",
    "testData = testData.unsqueeze_(dim=1)"
   ]
  },
  {
   "cell_type": "code",
   "execution_count": 20,
   "metadata": {},
   "outputs": [],
   "source": [
    "trainDataset = torch.utils.data.TensorDataset(trainData,torch.from_numpy(trainLabel))\n",
    "trainDataLoader = torch.utils.data.DataLoader(trainDataset,batch_size=100,shuffle=False, num_workers=4)\n",
    "\n",
    "# testDataset = torch.utils.data.TensorDataset(testData)\n",
    "testDataLoader = torch.utils.data.DataLoader(testData,batch_size=100,shuffle=False, num_workers = 4)"
   ]
  },
  {
   "cell_type": "code",
   "execution_count": 21,
   "metadata": {},
   "outputs": [
    {
     "name": "stdout",
     "output_type": "stream",
     "text": [
      "Training batches == \n",
      " 42000\n",
      "Testing batches == \n",
      " 28000\n"
     ]
    }
   ],
   "source": [
    "print(\"Training batches == \\n\",len(trainData))\n",
    "print(\"Testing batches == \\n\",len(testData))\n"
   ]
  },
  {
   "cell_type": "code",
   "execution_count": 23,
   "metadata": {},
   "outputs": [],
   "source": [
    "#visualizing no. of examples of each type\n",
    "def total_count(loader):\n",
    "    totalClassCount = [0,0,0,0,0,0,0,0,0,0]\n",
    "\n",
    "    for batch_id,(images,labels) in enumerate(loader):\n",
    "        for label in labels:\n",
    "            totalClassCount[int(label)] += 1\n",
    "    return totalClassCount"
   ]
  },
  {
   "cell_type": "code",
   "execution_count": 24,
   "metadata": {},
   "outputs": [
    {
     "name": "stdout",
     "output_type": "stream",
     "text": [
      "Digit class =  [0, 1, 2, 3, 4, 5, 6, 7, 8, 9]\n"
     ]
    },
    {
     "data": {
      "text/plain": [
       "Text(0.5, 1.0, 'Train Set')"
      ]
     },
     "execution_count": 24,
     "metadata": {},
     "output_type": "execute_result"
    },
    {
     "data": {
      "image/png": "[encoded data removed]",
      "text/plain": [
       "<Figure size 432x288 with 1 Axes>"
      ]
     },
     "metadata": {
      "needs_background": "light"
     },
     "output_type": "display_data"
    }
   ],
   "source": [
    "classes = [0,1,2,3,4,5,6,7,8,9]\n",
    "print(\"Digit class = \",classes)\n",
    "totalCount = total_count(trainDataLoader)\n",
    "\n",
    "fig0, ax0 = plt.subplots()\n",
    "ax0.barh(y=classes,width=totalCount)\n",
    "ax0.set_xlabel('# Examples')\n",
    "ax0.set_ylabel('# Digit Classes')\n",
    "ax0.set_title('Train Set')"
   ]
  },
  {
   "cell_type": "code",
   "execution_count": 26,
   "metadata": {},
   "outputs": [
    {
     "data": {
      "text/plain": [
       "<matplotlib.image.AxesImage at 0x7f2a3806b390>"
      ]
     },
     "execution_count": 26,
     "metadata": {},
     "output_type": "execute_result"
    },
    {
     "data": {
      "image/png": "[encoded data removed]",
      "text/plain": [
       "<Figure size 432x288 with 1 Axes>"
      ]
     },
     "metadata": {
      "needs_background": "light"
     },
     "output_type": "display_data"
    }
   ],
   "source": [
    "#Visualizing single digit:\n",
    "temp = trainDataLoader.dataset[0][0].numpy()\n",
    "temp = np.reshape(a=temp,newshape=(temp.shape[1],temp.shape[2]))\n",
    "plt.imshow(temp)"
   ]
  },
  {
   "cell_type": "code",
   "execution_count": 27,
   "metadata": {},
   "outputs": [],
   "source": [
    "#Creating LeNet5 nn class module\n",
    "# conv2d => relu => maxpooling => conv2d => relu => maxpooling => fully connected layer(fc)1 \n",
    "#=> fc2 => softmax output\n",
    "\n",
    "class Net(nn.Module):\n",
    "    def __init__(self):\n",
    "        super(Net, self).__init__()\n",
    "        \n",
    "        self.conv1 = nn.Conv2d(1,6,5)\n",
    "        self.conv2 = nn.Conv2d(6,16,5)\n",
    "        \n",
    "        self.fc1 = nn.Linear(1024,120)\n",
    "        self.fc2 = nn.Linear(120,84)\n",
    "        self.fc3 = nn.Linear(84,10)\n",
    "        self.fc1Size = 0\n",
    "        self.toKnowMaxPoolSize= False\n",
    "        \n",
    "    def forward(self, x):\n",
    "        x = F.max_pool2d(F.relu(self.conv1(x)),2)\n",
    "        x = F.max_pool2d(F.relu(self.conv2(x)),1)\n",
    "        \n",
    "        if(self.toKnowMaxPoolSize == True):\n",
    "            self.fc1Size = x.size()\n",
    "            print(x.size())\n",
    "            return\n",
    "        #now lets reshape the matrix i.e. unrolling the matrix\n",
    "        x = x.view(x.size()[0],-1)\n",
    "        x = F.relu(self.fc1(x))\n",
    "        x = F.relu(self.fc2(x))\n",
    "        x = self.fc3(x)\n",
    "        return x"
   ]
  },
  {
   "cell_type": "code",
   "execution_count": 30,
   "metadata": {},
   "outputs": [
    {
     "name": "stdout",
     "output_type": "stream",
     "text": [
      "Net(\n",
      "  (conv1): Conv2d(1, 6, kernel_size=(5, 5), stride=(1, 1))\n",
      "  (conv2): Conv2d(6, 16, kernel_size=(5, 5), stride=(1, 1))\n",
      "  (fc1): Linear(in_features=1024, out_features=120, bias=True)\n",
      "  (fc2): Linear(in_features=120, out_features=84, bias=True)\n",
      "  (fc3): Linear(in_features=84, out_features=10, bias=True)\n",
      ")\n"
     ]
    }
   ],
   "source": [
    "n1 = Net()\n",
    "#n1 = n1.cuda()\n",
    "print(n1)\n"
   ]
  },
  {
   "cell_type": "code",
   "execution_count": 34,
   "metadata": {},
   "outputs": [],
   "source": [
    "#Creating function for training our NNs\n",
    "def train_model(model,mode,decay,criterion,dataloader,optimizer,dictionary,num_epochs=30):\n",
    "    #mode = True means model.train() and False is model.eval()\n",
    "    #decay = True means decrease LR with no. of epochs \n",
    "    \n",
    "    totalLoss = []\n",
    "    totalLRs = []\n",
    "    correct = 0\n",
    "    total = 0\n",
    "    LR = 0\n",
    "    \n",
    "    for epoch in range(num_epochs):\n",
    "        if(decay == True):\n",
    "            for param in optimizer.param_groups:\n",
    "                LR = param['lr'] * (0.1**(epoch//7))\n",
    "                param['lr'] = LR\n",
    "            totalLRs.append(LR)\n",
    "            \n",
    "        print(\"Epoch = {}/{} \".format(epoch,num_epochs),end=\" \")\n",
    "        for batch_id,(image, label) in enumerate(dataloader):\n",
    "            if(mode == True):\n",
    "                optimizer.zero_grad()\n",
    "                image = torch.autograd.Variable(image)\n",
    "                label = torch.autograd.Variable(label)\n",
    "                #image = image.cuda()\n",
    "                #label = label.cuda()\n",
    "            else:\n",
    "                image = torch.autograd.Variable(image)\n",
    "                #image = image.cuda()\n",
    "\n",
    "            output = model.forward(image)\n",
    "            \n",
    "            if(mode == True):\n",
    "                loss = criterion(output,label)\n",
    "\n",
    "            _, predictated = torch.max(output.data,1)\n",
    "            \n",
    "            if(mode == True):\n",
    "                correct += (predictated == label.data).sum()\n",
    "                total += label.size(0)\n",
    "\n",
    "                loss.backward()\n",
    "                optimizer.step()\n",
    "\n",
    "            del image,label\n",
    "            \n",
    "        #torch.cuda.empty_cache()\n",
    "        #torch.empty_cache()\n",
    "        print(\"Loss = {:.5f}\".format(loss.data[0]))\n",
    "        totalLoss.append(loss.data[0])\n",
    "        \n",
    "    dictionary['totalLoss'] = totalLoss\n",
    "    dictionary['correct'] = correct\n",
    "    dictionary['totalSize'] = total\n",
    "    dictionary['totalLRs'] = totalLRs\n",
    "    \n",
    "    return model,dictionary"
   ]
  },
  {
   "cell_type": "code",
   "execution_count": 35,
   "metadata": {},
   "outputs": [],
   "source": [
    "# forward => loss => backward => upadte weights\n",
    "n1.toKnowMaxPoolSize = False   # To print the size of the last maxpool layer.\n",
    "optimizer = torch.optim.SGD(n1.parameters(),lr=0.1)\n",
    "#criterion = nn.CrossEntropyLoss().cuda()\n",
    "criterion = nn.CrossEntropyLoss()"
   ]
  },
  {
   "cell_type": "code",
   "execution_count": 36,
   "metadata": {},
   "outputs": [
    {
     "name": "stdout",
     "output_type": "stream",
     "text": [
      "Epoch = 0/50  "
     ]
    },
    {
     "ename": "IndexError",
     "evalue": "invalid index of a 0-dim tensor. Use tensor.item() to convert a 0-dim tensor to a Python number",
     "output_type": "error",
     "traceback": [
      "\u001b[0;31m---------------------------------------------------------------------------\u001b[0m",
      "\u001b[0;31mIndexError\u001b[0m                                Traceback (most recent call last)",
      "\u001b[0;32m<ipython-input-36-31a7d2ac75b8>\u001b[0m in \u001b[0;36m<module>\u001b[0;34m\u001b[0m\n\u001b[1;32m      2\u001b[0m \u001b[0;34m\u001b[0m\u001b[0m\n\u001b[1;32m      3\u001b[0m \u001b[0mdictModel\u001b[0m \u001b[0;34m=\u001b[0m \u001b[0;34m{\u001b[0m\u001b[0;34m}\u001b[0m\u001b[0;34m\u001b[0m\u001b[0;34m\u001b[0m\u001b[0m\n\u001b[0;32m----> 4\u001b[0;31m \u001b[0mn1\u001b[0m\u001b[0;34m,\u001b[0m \u001b[0mdictModel\u001b[0m \u001b[0;34m=\u001b[0m \u001b[0mtrain_model\u001b[0m\u001b[0;34m(\u001b[0m\u001b[0mmodel\u001b[0m\u001b[0;34m=\u001b[0m\u001b[0mn1\u001b[0m\u001b[0;34m,\u001b[0m\u001b[0mmode\u001b[0m\u001b[0;34m=\u001b[0m\u001b[0;32mTrue\u001b[0m\u001b[0;34m,\u001b[0m\u001b[0mdecay\u001b[0m\u001b[0;34m=\u001b[0m\u001b[0;32mTrue\u001b[0m\u001b[0;34m,\u001b[0m\u001b[0mcriterion\u001b[0m\u001b[0;34m=\u001b[0m\u001b[0mcriterion\u001b[0m\u001b[0;34m,\u001b[0m\u001b[0mdataloader\u001b[0m\u001b[0;34m=\u001b[0m\u001b[0mtrainDataLoader\u001b[0m\u001b[0;34m,\u001b[0m\u001b[0moptimizer\u001b[0m\u001b[0;34m=\u001b[0m\u001b[0moptimizer\u001b[0m\u001b[0;34m,\u001b[0m\u001b[0mdictionary\u001b[0m\u001b[0;34m=\u001b[0m\u001b[0mdictModel\u001b[0m\u001b[0;34m,\u001b[0m\u001b[0mnum_epochs\u001b[0m\u001b[0;34m=\u001b[0m\u001b[0;36m50\u001b[0m\u001b[0;34m)\u001b[0m\u001b[0;34m\u001b[0m\u001b[0;34m\u001b[0m\u001b[0m\n\u001b[0m",
      "\u001b[0;32m<ipython-input-34-30eacaacfdf4>\u001b[0m in \u001b[0;36mtrain_model\u001b[0;34m(model, mode, decay, criterion, dataloader, optimizer, dictionary, num_epochs)\u001b[0m\n\u001b[1;32m     47\u001b[0m         \u001b[0;31m#torch.cuda.empty_cache()\u001b[0m\u001b[0;34m\u001b[0m\u001b[0;34m\u001b[0m\u001b[0;34m\u001b[0m\u001b[0m\n\u001b[1;32m     48\u001b[0m         \u001b[0;31m#torch.empty_cache()\u001b[0m\u001b[0;34m\u001b[0m\u001b[0;34m\u001b[0m\u001b[0;34m\u001b[0m\u001b[0m\n\u001b[0;32m---> 49\u001b[0;31m         \u001b[0mprint\u001b[0m\u001b[0;34m(\u001b[0m\u001b[0;34m\"Loss = {:.5f}\"\u001b[0m\u001b[0;34m.\u001b[0m\u001b[0mformat\u001b[0m\u001b[0;34m(\u001b[0m\u001b[0mloss\u001b[0m\u001b[0;34m.\u001b[0m\u001b[0mdata\u001b[0m\u001b[0;34m[\u001b[0m\u001b[0;36m0\u001b[0m\u001b[0;34m]\u001b[0m\u001b[0;34m)\u001b[0m\u001b[0;34m)\u001b[0m\u001b[0;34m\u001b[0m\u001b[0;34m\u001b[0m\u001b[0m\n\u001b[0m\u001b[1;32m     50\u001b[0m         \u001b[0mtotalLoss\u001b[0m\u001b[0;34m.\u001b[0m\u001b[0mappend\u001b[0m\u001b[0;34m(\u001b[0m\u001b[0mloss\u001b[0m\u001b[0;34m.\u001b[0m\u001b[0mdata\u001b[0m\u001b[0;34m[\u001b[0m\u001b[0;36m0\u001b[0m\u001b[0;34m]\u001b[0m\u001b[0;34m)\u001b[0m\u001b[0;34m\u001b[0m\u001b[0;34m\u001b[0m\u001b[0m\n\u001b[1;32m     51\u001b[0m \u001b[0;34m\u001b[0m\u001b[0m\n",
      "\u001b[0;31mIndexError\u001b[0m: invalid index of a 0-dim tensor. Use tensor.item() to convert a 0-dim tensor to a Python number"
     ]
    }
   ],
   "source": [
    "#Let's first find correct Learning Rate using Learning decay.\n",
    "\n",
    "dictModel = {}\n",
    "n1, dictModel = train_model(model=n1,mode=True,decay=True,criterion=criterion,dataloader=trainDataLoader,optimizer=optimizer,dictionary=dictModel,num_epochs=50)"
   ]
  },
  {
   "cell_type": "markdown",
   "metadata": {},
   "source": [
    "### Frank Lemuchahary Notebook\n",
    "https://www.kaggle.com/franklemuchahary/mnist-digit-recognition-using-pytorch"
   ]
  },
  {
   "cell_type": "code",
   "execution_count": 38,
   "metadata": {},
   "outputs": [],
   "source": [
    "#pytorch utility imports\n",
    "import torch\n",
    "import torchvision\n",
    "import torchvision.transforms as transforms\n",
    "from torch.utils.data import DataLoader, TensorDataset\n",
    "from torchvision.utils import make_grid\n",
    "\n",
    "#neural net imports\n",
    "import torch.nn as nn\n",
    "import torch.nn.functional as F\n",
    "import torch.optim as optim\n",
    "from torch.autograd import Variable"
   ]
  },
  {
   "cell_type": "code",
   "execution_count": 39,
   "metadata": {},
   "outputs": [],
   "source": [
    "#import external libraries\n",
    "import pandas as pd\n",
    "import numpy as np\n",
    "import matplotlib.pyplot as plt\n",
    "from sklearn.model_selection import train_test_split\n",
    "import os\n",
    "import math\n",
    "%matplotlib inline"
   ]
  },
  {
   "cell_type": "code",
   "execution_count": 41,
   "metadata": {},
   "outputs": [
    {
     "name": "stdout",
     "output_type": "stream",
     "text": [
      "False\n",
      "True\n",
      "cpu\n"
     ]
    }
   ],
   "source": [
    "print(torch.cuda.is_available())\n",
    "print(torch.backends.cudnn.enabled)\n",
    "device = torch.device('cpu')\n",
    "if torch.cuda.is_available():\n",
    "    device = torch.device('cuda')\n",
    "print(device)"
   ]
  },
  {
   "cell_type": "code",
   "execution_count": 42,
   "metadata": {},
   "outputs": [],
   "source": [
    "input_folder_path = \"./data/\"\n",
    "train_df = pd.read_csv(input_folder_path+\"train.csv\")\n",
    "test_df = pd.read_csv(input_folder_path+\"test.csv\")"
   ]
  },
  {
   "cell_type": "code",
   "execution_count": 43,
   "metadata": {},
   "outputs": [],
   "source": [
    "train_labels = train_df['label'].values\n",
    "train_images = (train_df.iloc[:,1:].values).astype('float32')\n",
    "test_images = (test_df.iloc[:,:].values).astype('float32')\n",
    "\n",
    "#Training and Validation Split\n",
    "train_images, val_images, train_labels, val_labels = train_test_split(train_images, train_labels,\n",
    "                                                                     stratify=train_labels, random_state=123,\n",
    "                                                                     test_size=0.20)"
   ]
  },
  {
   "cell_type": "code",
   "execution_count": 44,
   "metadata": {},
   "outputs": [],
   "source": [
    "train_images = train_images.reshape(train_images.shape[0], 28, 28)\n",
    "val_images = val_images.reshape(val_images.shape[0], 28, 28)\n",
    "test_images = test_images.reshape(test_images.shape[0], 28, 28)"
   ]
  },
  {
   "cell_type": "code",
   "execution_count": 45,
   "metadata": {},
   "outputs": [
    {
     "data": {
      "image/png": "[encoded data removed]",
      "text/plain": [
       "<Figure size 432x288 with 3 Axes>"
      ]
     },
     "metadata": {
      "needs_background": "light"
     },
     "output_type": "display_data"
    }
   ],
   "source": [
    "#train samples\n",
    "for i in range(6, 9):\n",
    "    plt.subplot(330 + (i+1))\n",
    "    plt.imshow(train_images[i].squeeze(), cmap=plt.get_cmap('gray'))\n",
    "    plt.title(train_labels[i])"
   ]
  },
  {
   "cell_type": "code",
   "execution_count": 46,
   "metadata": {},
   "outputs": [
    {
     "data": {
      "image/png": "[encoded data removed]",
      "text/plain": [
       "<Figure size 432x288 with 3 Axes>"
      ]
     },
     "metadata": {
      "needs_background": "light"
     },
     "output_type": "display_data"
    }
   ],
   "source": [
    "#test samples\n",
    "for i in range(6, 9):\n",
    "    plt.subplot(330 + (i+1))\n",
    "    plt.imshow(test_images[i].squeeze(), cmap=plt.get_cmap('gray'))"
   ]
  },
  {
   "cell_type": "code",
   "execution_count": 47,
   "metadata": {},
   "outputs": [],
   "source": [
    "#train\n",
    "train_images_tensor = torch.tensor(train_images)/255.0\n",
    "train_labels_tensor = torch.tensor(train_labels)\n",
    "train_tensor = TensorDataset(train_images_tensor, train_labels_tensor)\n",
    "\n",
    "#val\n",
    "val_images_tensor = torch.tensor(val_images)/255.0\n",
    "val_labels_tensor = torch.tensor(val_labels)\n",
    "val_tensor = TensorDataset(val_images_tensor, val_labels_tensor)\n",
    "\n",
    "#test\n",
    "test_images_tensor = torch.tensor(test_images)/255.0"
   ]
  },
  {
   "cell_type": "code",
   "execution_count": 48,
   "metadata": {},
   "outputs": [],
   "source": [
    "train_loader = DataLoader(train_tensor, batch_size=16, num_workers=2, shuffle=True)\n",
    "val_loader = DataLoader(val_tensor, batch_size=16, num_workers=2, shuffle=True)\n",
    "test_loader = DataLoader(test_images_tensor, batch_size=16, num_workers=2, shuffle=False)"
   ]
  },
  {
   "cell_type": "code",
   "execution_count": 49,
   "metadata": {},
   "outputs": [
    {
     "name": "stderr",
     "output_type": "stream",
     "text": [
      "/home/gabriel/.local/lib/python3.7/site-packages/matplotlib/text.py:1150: FutureWarning: elementwise comparison failed; returning scalar instead, but in the future will perform elementwise comparison\n",
      "  if s != self._text:\n"
     ]
    },
    {
     "data": {
      "image/png": "[encoded data removed]",
      "text/plain": [
       "<Figure size 432x288 with 1 Axes>"
      ]
     },
     "metadata": {
      "needs_background": "light"
     },
     "output_type": "display_data"
    }
   ],
   "source": [
    "for batch_idx, (data, target) in enumerate(train_loader):\n",
    "    img_grid = make_grid(data[0:8,].unsqueeze(1), nrow=8)\n",
    "    img_target_labels = target[0:8,].numpy()\n",
    "    break\n",
    "    \n",
    "plt.imshow(img_grid.numpy().transpose((1,2,0)))\n",
    "plt.rcParams['figure.figsize'] = (10, 2)\n",
    "plt.title(img_target_labels, size=16)\n",
    "plt.show()"
   ]
  },
  {
   "cell_type": "code",
   "execution_count": 50,
   "metadata": {},
   "outputs": [],
   "source": [
    "class Net(nn.Module):\n",
    "    def __init__(self):\n",
    "        super(Net, self).__init__()\n",
    "        \n",
    "        self.conv_block = nn.Sequential(\n",
    "            nn.Conv2d(1, 32, kernel_size=3, stride=1, padding=1),\n",
    "            nn.BatchNorm2d(32),\n",
    "            nn.ReLU(inplace=True),\n",
    "            nn.Conv2d(32, 64, kernel_size=3, stride=1, padding=1),\n",
    "            nn.BatchNorm2d(64),\n",
    "            nn.ReLU(inplace=True),\n",
    "            nn.MaxPool2d(kernel_size=2, stride=2),\n",
    "            nn.Conv2d(64, 128, kernel_size=3, stride=1, padding=1),\n",
    "            nn.BatchNorm2d(128),\n",
    "            nn.ReLU(inplace=True),\n",
    "            nn.MaxPool2d(kernel_size=2, stride=2) \n",
    "        )\n",
    "        \n",
    "        self.linear_block = nn.Sequential(\n",
    "            nn.Dropout(p=0.5),\n",
    "            nn.Linear(128*7*7, 128),\n",
    "            nn.BatchNorm1d(128),\n",
    "            nn.ReLU(inplace=True),\n",
    "            nn.Dropout(0.5),\n",
    "            nn.Linear(128, 64),\n",
    "            nn.BatchNorm1d(64),\n",
    "            nn.ReLU(inplace=True),\n",
    "            nn.Dropout(0.5),\n",
    "            nn.Linear(64, 10)\n",
    "        )\n",
    "        \n",
    "    def forward(self, x):\n",
    "        x = self.conv_block(x)\n",
    "        x = x.view(x.size(0), -1)\n",
    "        x = self.linear_block(x)\n",
    "        \n",
    "        return x"
   ]
  },
  {
   "cell_type": "code",
   "execution_count": 51,
   "metadata": {},
   "outputs": [
    {
     "data": {
      "text/plain": [
       "Net(\n",
       "  (conv_block): Sequential(\n",
       "    (0): Conv2d(1, 32, kernel_size=(3, 3), stride=(1, 1), padding=(1, 1))\n",
       "    (1): BatchNorm2d(32, eps=1e-05, momentum=0.1, affine=True, track_running_stats=True)\n",
       "    (2): ReLU(inplace)\n",
       "    (3): Conv2d(32, 64, kernel_size=(3, 3), stride=(1, 1), padding=(1, 1))\n",
       "    (4): BatchNorm2d(64, eps=1e-05, momentum=0.1, affine=True, track_running_stats=True)\n",
       "    (5): ReLU(inplace)\n",
       "    (6): MaxPool2d(kernel_size=2, stride=2, padding=0, dilation=1, ceil_mode=False)\n",
       "    (7): Conv2d(64, 128, kernel_size=(3, 3), stride=(1, 1), padding=(1, 1))\n",
       "    (8): BatchNorm2d(128, eps=1e-05, momentum=0.1, affine=True, track_running_stats=True)\n",
       "    (9): ReLU(inplace)\n",
       "    (10): MaxPool2d(kernel_size=2, stride=2, padding=0, dilation=1, ceil_mode=False)\n",
       "  )\n",
       "  (linear_block): Sequential(\n",
       "    (0): Dropout(p=0.5)\n",
       "    (1): Linear(in_features=6272, out_features=128, bias=True)\n",
       "    (2): BatchNorm1d(128, eps=1e-05, momentum=0.1, affine=True, track_running_stats=True)\n",
       "    (3): ReLU(inplace)\n",
       "    (4): Dropout(p=0.5)\n",
       "    (5): Linear(in_features=128, out_features=64, bias=True)\n",
       "    (6): BatchNorm1d(64, eps=1e-05, momentum=0.1, affine=True, track_running_stats=True)\n",
       "    (7): ReLU(inplace)\n",
       "    (8): Dropout(p=0.5)\n",
       "    (9): Linear(in_features=64, out_features=10, bias=True)\n",
       "  )\n",
       ")"
      ]
     },
     "execution_count": 51,
     "metadata": {},
     "output_type": "execute_result"
    }
   ],
   "source": [
    "conv_model = Net()\n",
    "conv_model"
   ]
  },
  {
   "cell_type": "code",
   "execution_count": 52,
   "metadata": {},
   "outputs": [],
   "source": [
    "optimizer = optim.Adam(params=conv_model.parameters(), lr=0.003)\n",
    "criterion = nn.CrossEntropyLoss()\n",
    "\n",
    "exp_lr_scheduler = optim.lr_scheduler.StepLR(optimizer, step_size=7, gamma=0.1)\n",
    "\n",
    "if torch.cuda.is_available():\n",
    "    conv_model = conv_model.cuda()\n",
    "    criterion = criterion.cuda()"
   ]
  },
  {
   "cell_type": "code",
   "execution_count": 62,
   "metadata": {},
   "outputs": [],
   "source": [
    "def train_model(num_epoch):\n",
    "    conv_model.train()\n",
    "    exp_lr_scheduler.step()\n",
    "    \n",
    "    for batch_idx, (data, target) in enumerate(train_loader):\n",
    "        data = data.unsqueeze(1)\n",
    "        data, target = data, target\n",
    "        \n",
    "        if torch.cuda.is_available():\n",
    "            data = data.cuda()\n",
    "            target = target.cuda()\n",
    "            \n",
    "        optimizer.zero_grad()\n",
    "        output = conv_model(data)\n",
    "        loss = criterion(output, target)\n",
    "        loss.backward()\n",
    "        optimizer.step()\n",
    "        \n",
    "        if (batch_idx + 1)% 100 == 0:\n",
    "            print('Train Epoch: {} [{}/{} ({:.0f}%)]\\tLoss: {:.6f}'.format(\n",
    "                num_epoch, (batch_idx + 1) * len(data), len(train_loader.dataset),\n",
    "                100. * (batch_idx + 1) / len(train_loader), loss.item()))\n",
    "            \n",
    "def evaluate(data_loader):\n",
    "    conv_model.eval()\n",
    "    loss = 0\n",
    "    correct = 0\n",
    "    \n",
    "    for data, target in data_loader:\n",
    "        data = data.unsqueeze(1)\n",
    "        data, target = data, target\n",
    "        \n",
    "        if torch.cuda.is_available():\n",
    "            data = data.cuda()\n",
    "            target = target.cuda()\n",
    "        \n",
    "        output = conv_model(data)\n",
    "        \n",
    "        loss += F.cross_entropy(output, target, size_average=False).item()\n",
    "\n",
    "        pred = output.data.max(1, keepdim=True)[1]\n",
    "        correct += pred.eq(target.data.view_as(pred)).cpu().sum()\n",
    "        \n",
    "    loss /= len(data_loader.dataset)\n",
    "        \n",
    "    print('\\nAverage Val Loss: {:.4f}, Val Accuracy: {}/{} ({:.3f}%)\\n'.format(\n",
    "        loss, correct, len(data_loader.dataset),\n",
    "        100. * correct / len(data_loader.dataset)))"
   ]
  },
  {
   "cell_type": "code",
   "execution_count": 63,
   "metadata": {},
   "outputs": [
    {
     "name": "stdout",
     "output_type": "stream",
     "text": [
      "Train Epoch: 0 [1600/33600 (5%)]\tLoss: 0.629091\n",
      "Train Epoch: 0 [3200/33600 (10%)]\tLoss: 0.542279\n",
      "Train Epoch: 0 [4800/33600 (14%)]\tLoss: 0.623876\n",
      "Train Epoch: 0 [6400/33600 (19%)]\tLoss: 0.733621\n",
      "Train Epoch: 0 [8000/33600 (24%)]\tLoss: 0.929409\n",
      "Train Epoch: 0 [9600/33600 (29%)]\tLoss: 0.537026\n",
      "Train Epoch: 0 [11200/33600 (33%)]\tLoss: 0.794428\n",
      "Train Epoch: 0 [12800/33600 (38%)]\tLoss: 0.496555\n",
      "Train Epoch: 0 [14400/33600 (43%)]\tLoss: 0.575411\n",
      "Train Epoch: 0 [16000/33600 (48%)]\tLoss: 0.566879\n",
      "Train Epoch: 0 [17600/33600 (52%)]\tLoss: 1.100626\n",
      "Train Epoch: 0 [19200/33600 (57%)]\tLoss: 0.618602\n",
      "Train Epoch: 0 [20800/33600 (62%)]\tLoss: 0.716567\n",
      "Train Epoch: 0 [22400/33600 (67%)]\tLoss: 0.617985\n",
      "Train Epoch: 0 [24000/33600 (71%)]\tLoss: 1.106295\n",
      "Train Epoch: 0 [25600/33600 (76%)]\tLoss: 0.564202\n",
      "Train Epoch: 0 [27200/33600 (81%)]\tLoss: 0.673608\n",
      "Train Epoch: 0 [28800/33600 (86%)]\tLoss: 0.598456\n",
      "Train Epoch: 0 [30400/33600 (90%)]\tLoss: 0.621114\n",
      "Train Epoch: 0 [32000/33600 (95%)]\tLoss: 0.773041\n",
      "Train Epoch: 0 [33600/33600 (100%)]\tLoss: 0.503463\n"
     ]
    },
    {
     "name": "stderr",
     "output_type": "stream",
     "text": [
      "/home/gabriel/miniconda3/envs/pytorch/lib/python3.7/site-packages/torch/nn/_reduction.py:49: UserWarning: size_average and reduce args will be deprecated, please use reduction='sum' instead.\n",
      "  warnings.warn(warning.format(ret))\n"
     ]
    },
    {
     "name": "stdout",
     "output_type": "stream",
     "text": [
      "\n",
      "Average Val Loss: 0.3093, Val Accuracy: 7860/8400 (93.000%)\n",
      "\n",
      "Train Epoch: 1 [1600/33600 (5%)]\tLoss: 0.369897\n",
      "Train Epoch: 1 [3200/33600 (10%)]\tLoss: 0.420205\n",
      "Train Epoch: 1 [4800/33600 (14%)]\tLoss: 0.820128\n",
      "Train Epoch: 1 [6400/33600 (19%)]\tLoss: 0.380925\n",
      "Train Epoch: 1 [8000/33600 (24%)]\tLoss: 0.600868\n",
      "Train Epoch: 1 [9600/33600 (29%)]\tLoss: 1.045408\n",
      "Train Epoch: 1 [11200/33600 (33%)]\tLoss: 0.778509\n",
      "Train Epoch: 1 [12800/33600 (38%)]\tLoss: 1.441444\n",
      "Train Epoch: 1 [14400/33600 (43%)]\tLoss: 0.577983\n",
      "Train Epoch: 1 [16000/33600 (48%)]\tLoss: 0.780622\n",
      "Train Epoch: 1 [17600/33600 (52%)]\tLoss: 0.578715\n",
      "Train Epoch: 1 [19200/33600 (57%)]\tLoss: 0.386868\n",
      "Train Epoch: 1 [20800/33600 (62%)]\tLoss: 0.965955\n",
      "Train Epoch: 1 [22400/33600 (67%)]\tLoss: 0.377912\n",
      "Train Epoch: 1 [24000/33600 (71%)]\tLoss: 0.731055\n",
      "Train Epoch: 1 [25600/33600 (76%)]\tLoss: 0.432986\n",
      "Train Epoch: 1 [27200/33600 (81%)]\tLoss: 0.771130\n",
      "Train Epoch: 1 [28800/33600 (86%)]\tLoss: 0.712663\n",
      "Train Epoch: 1 [30400/33600 (90%)]\tLoss: 0.494195\n",
      "Train Epoch: 1 [32000/33600 (95%)]\tLoss: 0.604850\n",
      "Train Epoch: 1 [33600/33600 (100%)]\tLoss: 0.563070\n",
      "\n",
      "Average Val Loss: 0.2902, Val Accuracy: 7878/8400 (93.000%)\n",
      "\n",
      "Train Epoch: 2 [1600/33600 (5%)]\tLoss: 0.413762\n",
      "Train Epoch: 2 [3200/33600 (10%)]\tLoss: 1.588004\n",
      "Train Epoch: 2 [4800/33600 (14%)]\tLoss: 0.549573\n",
      "Train Epoch: 2 [6400/33600 (19%)]\tLoss: 0.735114\n",
      "Train Epoch: 2 [8000/33600 (24%)]\tLoss: 0.304288\n",
      "Train Epoch: 2 [9600/33600 (29%)]\tLoss: 0.894919\n",
      "Train Epoch: 2 [11200/33600 (33%)]\tLoss: 0.733907\n",
      "Train Epoch: 2 [12800/33600 (38%)]\tLoss: 1.249837\n",
      "Train Epoch: 2 [14400/33600 (43%)]\tLoss: 0.781375\n",
      "Train Epoch: 2 [16000/33600 (48%)]\tLoss: 0.536643\n",
      "Train Epoch: 2 [17600/33600 (52%)]\tLoss: 0.763847\n",
      "Train Epoch: 2 [19200/33600 (57%)]\tLoss: 0.563882\n",
      "Train Epoch: 2 [20800/33600 (62%)]\tLoss: 0.851826\n",
      "Train Epoch: 2 [22400/33600 (67%)]\tLoss: 0.860764\n",
      "Train Epoch: 2 [24000/33600 (71%)]\tLoss: 0.610983\n",
      "Train Epoch: 2 [25600/33600 (76%)]\tLoss: 0.851678\n",
      "Train Epoch: 2 [27200/33600 (81%)]\tLoss: 0.460220\n",
      "Train Epoch: 2 [28800/33600 (86%)]\tLoss: 0.720600\n",
      "Train Epoch: 2 [30400/33600 (90%)]\tLoss: 0.554245\n",
      "Train Epoch: 2 [32000/33600 (95%)]\tLoss: 0.604865\n",
      "Train Epoch: 2 [33600/33600 (100%)]\tLoss: 1.007019\n",
      "\n",
      "Average Val Loss: 0.2981, Val Accuracy: 7865/8400 (93.000%)\n",
      "\n",
      "Train Epoch: 3 [1600/33600 (5%)]\tLoss: 1.062749\n",
      "Train Epoch: 3 [3200/33600 (10%)]\tLoss: 0.565264\n",
      "Train Epoch: 3 [4800/33600 (14%)]\tLoss: 0.907823\n",
      "Train Epoch: 3 [6400/33600 (19%)]\tLoss: 0.509622\n",
      "Train Epoch: 3 [8000/33600 (24%)]\tLoss: 0.355524\n",
      "Train Epoch: 3 [9600/33600 (29%)]\tLoss: 0.438858\n",
      "Train Epoch: 3 [11200/33600 (33%)]\tLoss: 0.493832\n",
      "Train Epoch: 3 [12800/33600 (38%)]\tLoss: 0.724638\n",
      "Train Epoch: 3 [14400/33600 (43%)]\tLoss: 0.687931\n",
      "Train Epoch: 3 [16000/33600 (48%)]\tLoss: 1.096579\n",
      "Train Epoch: 3 [17600/33600 (52%)]\tLoss: 0.871232\n",
      "Train Epoch: 3 [19200/33600 (57%)]\tLoss: 0.520003\n",
      "Train Epoch: 3 [20800/33600 (62%)]\tLoss: 0.632712\n",
      "Train Epoch: 3 [22400/33600 (67%)]\tLoss: 0.499096\n",
      "Train Epoch: 3 [24000/33600 (71%)]\tLoss: 0.837418\n",
      "Train Epoch: 3 [25600/33600 (76%)]\tLoss: 0.522027\n",
      "Train Epoch: 3 [27200/33600 (81%)]\tLoss: 0.395918\n",
      "Train Epoch: 3 [28800/33600 (86%)]\tLoss: 0.693939\n",
      "Train Epoch: 3 [30400/33600 (90%)]\tLoss: 0.864743\n",
      "Train Epoch: 3 [32000/33600 (95%)]\tLoss: 0.619345\n",
      "Train Epoch: 3 [33600/33600 (100%)]\tLoss: 0.892507\n",
      "\n",
      "Average Val Loss: 0.2955, Val Accuracy: 7854/8400 (93.000%)\n",
      "\n",
      "Train Epoch: 4 [1600/33600 (5%)]\tLoss: 0.635983\n",
      "Train Epoch: 4 [3200/33600 (10%)]\tLoss: 0.562552\n",
      "Train Epoch: 4 [4800/33600 (14%)]\tLoss: 0.648733\n",
      "Train Epoch: 4 [6400/33600 (19%)]\tLoss: 0.498795\n",
      "Train Epoch: 4 [8000/33600 (24%)]\tLoss: 0.871458\n",
      "Train Epoch: 4 [9600/33600 (29%)]\tLoss: 0.637108\n",
      "Train Epoch: 4 [11200/33600 (33%)]\tLoss: 0.744258\n",
      "Train Epoch: 4 [12800/33600 (38%)]\tLoss: 0.517873\n",
      "Train Epoch: 4 [14400/33600 (43%)]\tLoss: 0.995502\n",
      "Train Epoch: 4 [16000/33600 (48%)]\tLoss: 0.651618\n",
      "Train Epoch: 4 [17600/33600 (52%)]\tLoss: 0.806709\n",
      "Train Epoch: 4 [19200/33600 (57%)]\tLoss: 0.700781\n",
      "Train Epoch: 4 [20800/33600 (62%)]\tLoss: 0.645578\n",
      "Train Epoch: 4 [22400/33600 (67%)]\tLoss: 0.747031\n",
      "Train Epoch: 4 [24000/33600 (71%)]\tLoss: 0.723061\n",
      "Train Epoch: 4 [25600/33600 (76%)]\tLoss: 0.740323\n",
      "Train Epoch: 4 [27200/33600 (81%)]\tLoss: 1.143310\n",
      "Train Epoch: 4 [28800/33600 (86%)]\tLoss: 0.303937\n",
      "Train Epoch: 4 [30400/33600 (90%)]\tLoss: 0.348215\n",
      "Train Epoch: 4 [32000/33600 (95%)]\tLoss: 1.111986\n",
      "Train Epoch: 4 [33600/33600 (100%)]\tLoss: 0.487305\n",
      "\n",
      "Average Val Loss: 0.2999, Val Accuracy: 7860/8400 (93.000%)\n",
      "\n",
      "Train Epoch: 5 [1600/33600 (5%)]\tLoss: 0.690801\n",
      "Train Epoch: 5 [3200/33600 (10%)]\tLoss: 0.690655\n",
      "Train Epoch: 5 [4800/33600 (14%)]\tLoss: 0.760864\n",
      "Train Epoch: 5 [6400/33600 (19%)]\tLoss: 0.323486\n",
      "Train Epoch: 5 [8000/33600 (24%)]\tLoss: 0.969597\n",
      "Train Epoch: 5 [9600/33600 (29%)]\tLoss: 0.373320\n",
      "Train Epoch: 5 [11200/33600 (33%)]\tLoss: 0.919886\n",
      "Train Epoch: 5 [12800/33600 (38%)]\tLoss: 0.359330\n",
      "Train Epoch: 5 [14400/33600 (43%)]\tLoss: 0.400011\n",
      "Train Epoch: 5 [16000/33600 (48%)]\tLoss: 0.542025\n",
      "Train Epoch: 5 [17600/33600 (52%)]\tLoss: 0.778823\n",
      "Train Epoch: 5 [19200/33600 (57%)]\tLoss: 0.612783\n",
      "Train Epoch: 5 [20800/33600 (62%)]\tLoss: 0.442934\n",
      "Train Epoch: 5 [22400/33600 (67%)]\tLoss: 0.340317\n",
      "Train Epoch: 5 [24000/33600 (71%)]\tLoss: 0.673611\n",
      "Train Epoch: 5 [25600/33600 (76%)]\tLoss: 0.446317\n",
      "Train Epoch: 5 [27200/33600 (81%)]\tLoss: 0.983961\n",
      "Train Epoch: 5 [28800/33600 (86%)]\tLoss: 0.680373\n",
      "Train Epoch: 5 [30400/33600 (90%)]\tLoss: 0.397606\n",
      "Train Epoch: 5 [32000/33600 (95%)]\tLoss: 0.682151\n",
      "Train Epoch: 5 [33600/33600 (100%)]\tLoss: 0.603229\n",
      "\n",
      "Average Val Loss: 0.3058, Val Accuracy: 7853/8400 (93.000%)\n",
      "\n",
      "Train Epoch: 6 [1600/33600 (5%)]\tLoss: 0.528384\n",
      "Train Epoch: 6 [3200/33600 (10%)]\tLoss: 0.592558\n",
      "Train Epoch: 6 [4800/33600 (14%)]\tLoss: 0.474633\n",
      "Train Epoch: 6 [6400/33600 (19%)]\tLoss: 0.513628\n",
      "Train Epoch: 6 [8000/33600 (24%)]\tLoss: 0.807452\n",
      "Train Epoch: 6 [9600/33600 (29%)]\tLoss: 0.715119\n",
      "Train Epoch: 6 [11200/33600 (33%)]\tLoss: 0.525776\n",
      "Train Epoch: 6 [12800/33600 (38%)]\tLoss: 1.191174\n",
      "Train Epoch: 6 [14400/33600 (43%)]\tLoss: 1.129105\n",
      "Train Epoch: 6 [16000/33600 (48%)]\tLoss: 0.497926\n",
      "Train Epoch: 6 [17600/33600 (52%)]\tLoss: 0.987547\n",
      "Train Epoch: 6 [19200/33600 (57%)]\tLoss: 0.684545\n",
      "Train Epoch: 6 [20800/33600 (62%)]\tLoss: 0.572970\n",
      "Train Epoch: 6 [22400/33600 (67%)]\tLoss: 0.723028\n",
      "Train Epoch: 6 [24000/33600 (71%)]\tLoss: 0.656416\n",
      "Train Epoch: 6 [25600/33600 (76%)]\tLoss: 0.406565\n",
      "Train Epoch: 6 [27200/33600 (81%)]\tLoss: 0.616568\n",
      "Train Epoch: 6 [28800/33600 (86%)]\tLoss: 0.573154\n",
      "Train Epoch: 6 [30400/33600 (90%)]\tLoss: 0.550386\n",
      "Train Epoch: 6 [32000/33600 (95%)]\tLoss: 0.539754\n",
      "Train Epoch: 6 [33600/33600 (100%)]\tLoss: 0.373025\n",
      "\n",
      "Average Val Loss: 0.2864, Val Accuracy: 7880/8400 (93.000%)\n",
      "\n",
      "Train Epoch: 7 [1600/33600 (5%)]\tLoss: 0.389647\n",
      "Train Epoch: 7 [3200/33600 (10%)]\tLoss: 0.455927\n",
      "Train Epoch: 7 [4800/33600 (14%)]\tLoss: 0.524754\n",
      "Train Epoch: 7 [6400/33600 (19%)]\tLoss: 0.811924\n",
      "Train Epoch: 7 [8000/33600 (24%)]\tLoss: 0.715919\n",
      "Train Epoch: 7 [9600/33600 (29%)]\tLoss: 0.771717\n",
      "Train Epoch: 7 [11200/33600 (33%)]\tLoss: 0.749887\n",
      "Train Epoch: 7 [12800/33600 (38%)]\tLoss: 0.536203\n",
      "Train Epoch: 7 [14400/33600 (43%)]\tLoss: 0.825177\n",
      "Train Epoch: 7 [16000/33600 (48%)]\tLoss: 0.603332\n",
      "Train Epoch: 7 [17600/33600 (52%)]\tLoss: 0.819712\n",
      "Train Epoch: 7 [19200/33600 (57%)]\tLoss: 0.746319\n",
      "Train Epoch: 7 [20800/33600 (62%)]\tLoss: 0.305438\n",
      "Train Epoch: 7 [22400/33600 (67%)]\tLoss: 0.622166\n",
      "Train Epoch: 7 [24000/33600 (71%)]\tLoss: 0.555306\n",
      "Train Epoch: 7 [25600/33600 (76%)]\tLoss: 0.781783\n",
      "Train Epoch: 7 [27200/33600 (81%)]\tLoss: 0.839878\n",
      "Train Epoch: 7 [28800/33600 (86%)]\tLoss: 0.830514\n",
      "Train Epoch: 7 [30400/33600 (90%)]\tLoss: 0.640581\n",
      "Train Epoch: 7 [32000/33600 (95%)]\tLoss: 0.810414\n",
      "Train Epoch: 7 [33600/33600 (100%)]\tLoss: 0.640932\n",
      "\n",
      "Average Val Loss: 0.2912, Val Accuracy: 7878/8400 (93.000%)\n",
      "\n",
      "Train Epoch: 8 [1600/33600 (5%)]\tLoss: 0.390077\n",
      "Train Epoch: 8 [3200/33600 (10%)]\tLoss: 0.833402\n",
      "Train Epoch: 8 [4800/33600 (14%)]\tLoss: 0.685804\n",
      "Train Epoch: 8 [6400/33600 (19%)]\tLoss: 0.920520\n",
      "Train Epoch: 8 [8000/33600 (24%)]\tLoss: 0.661036\n",
      "Train Epoch: 8 [9600/33600 (29%)]\tLoss: 0.622103\n",
      "Train Epoch: 8 [11200/33600 (33%)]\tLoss: 1.011427\n",
      "Train Epoch: 8 [12800/33600 (38%)]\tLoss: 0.923083\n",
      "Train Epoch: 8 [14400/33600 (43%)]\tLoss: 0.621154\n",
      "Train Epoch: 8 [16000/33600 (48%)]\tLoss: 0.487947\n",
      "Train Epoch: 8 [17600/33600 (52%)]\tLoss: 0.704954\n",
      "Train Epoch: 8 [19200/33600 (57%)]\tLoss: 1.029620\n",
      "Train Epoch: 8 [20800/33600 (62%)]\tLoss: 0.550924\n",
      "Train Epoch: 8 [22400/33600 (67%)]\tLoss: 0.596305\n",
      "Train Epoch: 8 [24000/33600 (71%)]\tLoss: 0.328868\n",
      "Train Epoch: 8 [25600/33600 (76%)]\tLoss: 0.532252\n",
      "Train Epoch: 8 [27200/33600 (81%)]\tLoss: 0.896075\n",
      "Train Epoch: 8 [28800/33600 (86%)]\tLoss: 0.558330\n",
      "Train Epoch: 8 [30400/33600 (90%)]\tLoss: 0.734030\n",
      "Train Epoch: 8 [32000/33600 (95%)]\tLoss: 0.455510\n",
      "Train Epoch: 8 [33600/33600 (100%)]\tLoss: 0.610384\n",
      "\n",
      "Average Val Loss: 0.2968, Val Accuracy: 7849/8400 (93.000%)\n",
      "\n",
      "Train Epoch: 9 [1600/33600 (5%)]\tLoss: 0.903232\n",
      "Train Epoch: 9 [3200/33600 (10%)]\tLoss: 0.701627\n",
      "Train Epoch: 9 [4800/33600 (14%)]\tLoss: 0.714033\n",
      "Train Epoch: 9 [6400/33600 (19%)]\tLoss: 0.430887\n",
      "Train Epoch: 9 [8000/33600 (24%)]\tLoss: 1.082526\n",
      "Train Epoch: 9 [9600/33600 (29%)]\tLoss: 1.214971\n",
      "Train Epoch: 9 [11200/33600 (33%)]\tLoss: 0.755266\n",
      "Train Epoch: 9 [12800/33600 (38%)]\tLoss: 0.563995\n",
      "Train Epoch: 9 [14400/33600 (43%)]\tLoss: 0.869685\n",
      "Train Epoch: 9 [16000/33600 (48%)]\tLoss: 0.671930\n",
      "Train Epoch: 9 [17600/33600 (52%)]\tLoss: 0.436060\n",
      "Train Epoch: 9 [19200/33600 (57%)]\tLoss: 0.385128\n",
      "Train Epoch: 9 [20800/33600 (62%)]\tLoss: 0.560700\n",
      "Train Epoch: 9 [22400/33600 (67%)]\tLoss: 0.614055\n",
      "Train Epoch: 9 [24000/33600 (71%)]\tLoss: 1.065104\n",
      "Train Epoch: 9 [25600/33600 (76%)]\tLoss: 0.597444\n",
      "Train Epoch: 9 [27200/33600 (81%)]\tLoss: 1.262160\n",
      "Train Epoch: 9 [28800/33600 (86%)]\tLoss: 0.800520\n",
      "Train Epoch: 9 [30400/33600 (90%)]\tLoss: 0.489119\n",
      "Train Epoch: 9 [32000/33600 (95%)]\tLoss: 0.569419\n",
      "Train Epoch: 9 [33600/33600 (100%)]\tLoss: 0.653842\n",
      "\n",
      "Average Val Loss: 0.2961, Val Accuracy: 7842/8400 (93.000%)\n",
      "\n",
      "Train Epoch: 10 [1600/33600 (5%)]\tLoss: 0.593764\n",
      "Train Epoch: 10 [3200/33600 (10%)]\tLoss: 0.446196\n",
      "Train Epoch: 10 [4800/33600 (14%)]\tLoss: 0.476772\n",
      "Train Epoch: 10 [6400/33600 (19%)]\tLoss: 0.424727\n",
      "Train Epoch: 10 [8000/33600 (24%)]\tLoss: 1.227830\n",
      "Train Epoch: 10 [9600/33600 (29%)]\tLoss: 0.650435\n",
      "Train Epoch: 10 [11200/33600 (33%)]\tLoss: 0.697482\n",
      "Train Epoch: 10 [12800/33600 (38%)]\tLoss: 0.560971\n",
      "Train Epoch: 10 [14400/33600 (43%)]\tLoss: 0.771208\n",
      "Train Epoch: 10 [16000/33600 (48%)]\tLoss: 0.575901\n",
      "Train Epoch: 10 [17600/33600 (52%)]\tLoss: 0.615136\n",
      "Train Epoch: 10 [19200/33600 (57%)]\tLoss: 0.940054\n",
      "Train Epoch: 10 [20800/33600 (62%)]\tLoss: 0.552422\n",
      "Train Epoch: 10 [22400/33600 (67%)]\tLoss: 0.737369\n",
      "Train Epoch: 10 [24000/33600 (71%)]\tLoss: 0.567384\n",
      "Train Epoch: 10 [25600/33600 (76%)]\tLoss: 0.629125\n",
      "Train Epoch: 10 [27200/33600 (81%)]\tLoss: 0.559146\n",
      "Train Epoch: 10 [28800/33600 (86%)]\tLoss: 1.146114\n",
      "Train Epoch: 10 [30400/33600 (90%)]\tLoss: 0.390364\n",
      "Train Epoch: 10 [32000/33600 (95%)]\tLoss: 0.695312\n",
      "Train Epoch: 10 [33600/33600 (100%)]\tLoss: 0.939950\n",
      "\n",
      "Average Val Loss: 0.2944, Val Accuracy: 7864/8400 (93.000%)\n",
      "\n",
      "Train Epoch: 11 [1600/33600 (5%)]\tLoss: 0.733536\n",
      "Train Epoch: 11 [3200/33600 (10%)]\tLoss: 0.586242\n",
      "Train Epoch: 11 [4800/33600 (14%)]\tLoss: 1.284733\n",
      "Train Epoch: 11 [6400/33600 (19%)]\tLoss: 0.809491\n",
      "Train Epoch: 11 [8000/33600 (24%)]\tLoss: 0.469929\n",
      "Train Epoch: 11 [9600/33600 (29%)]\tLoss: 0.418863\n",
      "Train Epoch: 11 [11200/33600 (33%)]\tLoss: 0.839816\n",
      "Train Epoch: 11 [12800/33600 (38%)]\tLoss: 0.614770\n",
      "Train Epoch: 11 [14400/33600 (43%)]\tLoss: 0.560708\n",
      "Train Epoch: 11 [16000/33600 (48%)]\tLoss: 0.346373\n",
      "Train Epoch: 11 [17600/33600 (52%)]\tLoss: 0.947390\n",
      "Train Epoch: 11 [19200/33600 (57%)]\tLoss: 0.705004\n",
      "Train Epoch: 11 [20800/33600 (62%)]\tLoss: 0.296836\n",
      "Train Epoch: 11 [22400/33600 (67%)]\tLoss: 0.476673\n",
      "Train Epoch: 11 [24000/33600 (71%)]\tLoss: 0.755090\n",
      "Train Epoch: 11 [25600/33600 (76%)]\tLoss: 0.527336\n",
      "Train Epoch: 11 [27200/33600 (81%)]\tLoss: 0.749356\n",
      "Train Epoch: 11 [28800/33600 (86%)]\tLoss: 0.790512\n",
      "Train Epoch: 11 [30400/33600 (90%)]\tLoss: 0.739573\n",
      "Train Epoch: 11 [32000/33600 (95%)]\tLoss: 1.089778\n",
      "Train Epoch: 11 [33600/33600 (100%)]\tLoss: 0.340237\n",
      "\n",
      "Average Val Loss: 0.3005, Val Accuracy: 7857/8400 (93.000%)\n",
      "\n",
      "Train Epoch: 12 [1600/33600 (5%)]\tLoss: 0.841575\n",
      "Train Epoch: 12 [3200/33600 (10%)]\tLoss: 1.052402\n",
      "Train Epoch: 12 [4800/33600 (14%)]\tLoss: 0.741752\n",
      "Train Epoch: 12 [6400/33600 (19%)]\tLoss: 0.802265\n",
      "Train Epoch: 12 [8000/33600 (24%)]\tLoss: 0.819350\n",
      "Train Epoch: 12 [9600/33600 (29%)]\tLoss: 0.655059\n",
      "Train Epoch: 12 [11200/33600 (33%)]\tLoss: 0.603734\n",
      "Train Epoch: 12 [12800/33600 (38%)]\tLoss: 0.796466\n",
      "Train Epoch: 12 [14400/33600 (43%)]\tLoss: 0.878060\n",
      "Train Epoch: 12 [16000/33600 (48%)]\tLoss: 0.684360\n",
      "Train Epoch: 12 [17600/33600 (52%)]\tLoss: 0.680091\n",
      "Train Epoch: 12 [19200/33600 (57%)]\tLoss: 0.783468\n",
      "Train Epoch: 12 [20800/33600 (62%)]\tLoss: 0.668972\n",
      "Train Epoch: 12 [22400/33600 (67%)]\tLoss: 0.861289\n",
      "Train Epoch: 12 [24000/33600 (71%)]\tLoss: 0.651223\n",
      "Train Epoch: 12 [25600/33600 (76%)]\tLoss: 0.828396\n",
      "Train Epoch: 12 [27200/33600 (81%)]\tLoss: 0.471823\n",
      "Train Epoch: 12 [28800/33600 (86%)]\tLoss: 0.609856\n",
      "Train Epoch: 12 [30400/33600 (90%)]\tLoss: 0.750800\n",
      "Train Epoch: 12 [32000/33600 (95%)]\tLoss: 0.661211\n",
      "Train Epoch: 12 [33600/33600 (100%)]\tLoss: 1.104068\n",
      "\n",
      "Average Val Loss: 0.2964, Val Accuracy: 7845/8400 (93.000%)\n",
      "\n",
      "Train Epoch: 13 [1600/33600 (5%)]\tLoss: 0.473195\n",
      "Train Epoch: 13 [3200/33600 (10%)]\tLoss: 0.933320\n",
      "Train Epoch: 13 [4800/33600 (14%)]\tLoss: 0.647803\n",
      "Train Epoch: 13 [6400/33600 (19%)]\tLoss: 0.701187\n",
      "Train Epoch: 13 [8000/33600 (24%)]\tLoss: 0.618813\n",
      "Train Epoch: 13 [9600/33600 (29%)]\tLoss: 0.587729\n",
      "Train Epoch: 13 [11200/33600 (33%)]\tLoss: 0.381267\n",
      "Train Epoch: 13 [12800/33600 (38%)]\tLoss: 0.933310\n",
      "Train Epoch: 13 [14400/33600 (43%)]\tLoss: 0.660870\n",
      "Train Epoch: 13 [16000/33600 (48%)]\tLoss: 0.574726\n",
      "Train Epoch: 13 [17600/33600 (52%)]\tLoss: 1.036017\n",
      "Train Epoch: 13 [19200/33600 (57%)]\tLoss: 0.813657\n",
      "Train Epoch: 13 [20800/33600 (62%)]\tLoss: 0.435389\n",
      "Train Epoch: 13 [22400/33600 (67%)]\tLoss: 0.437992\n",
      "Train Epoch: 13 [24000/33600 (71%)]\tLoss: 0.405023\n",
      "Train Epoch: 13 [25600/33600 (76%)]\tLoss: 0.486602\n",
      "Train Epoch: 13 [27200/33600 (81%)]\tLoss: 0.343554\n",
      "Train Epoch: 13 [28800/33600 (86%)]\tLoss: 0.949636\n",
      "Train Epoch: 13 [30400/33600 (90%)]\tLoss: 0.610781\n",
      "Train Epoch: 13 [32000/33600 (95%)]\tLoss: 0.758948\n",
      "Train Epoch: 13 [33600/33600 (100%)]\tLoss: 0.922446\n",
      "\n",
      "Average Val Loss: 0.3033, Val Accuracy: 7865/8400 (93.000%)\n",
      "\n",
      "Train Epoch: 14 [1600/33600 (5%)]\tLoss: 0.854904\n",
      "Train Epoch: 14 [3200/33600 (10%)]\tLoss: 0.664405\n",
      "Train Epoch: 14 [4800/33600 (14%)]\tLoss: 0.491459\n",
      "Train Epoch: 14 [6400/33600 (19%)]\tLoss: 0.422458\n",
      "Train Epoch: 14 [8000/33600 (24%)]\tLoss: 0.395769\n",
      "Train Epoch: 14 [9600/33600 (29%)]\tLoss: 0.559533\n",
      "Train Epoch: 14 [11200/33600 (33%)]\tLoss: 0.574250\n",
      "Train Epoch: 14 [12800/33600 (38%)]\tLoss: 0.842669\n",
      "Train Epoch: 14 [14400/33600 (43%)]\tLoss: 0.686139\n",
      "Train Epoch: 14 [16000/33600 (48%)]\tLoss: 0.679577\n",
      "Train Epoch: 14 [17600/33600 (52%)]\tLoss: 0.450830\n",
      "Train Epoch: 14 [19200/33600 (57%)]\tLoss: 0.660258\n",
      "Train Epoch: 14 [20800/33600 (62%)]\tLoss: 0.761643\n",
      "Train Epoch: 14 [22400/33600 (67%)]\tLoss: 0.688423\n",
      "Train Epoch: 14 [24000/33600 (71%)]\tLoss: 1.280443\n",
      "Train Epoch: 14 [25600/33600 (76%)]\tLoss: 0.603484\n",
      "Train Epoch: 14 [27200/33600 (81%)]\tLoss: 0.899153\n",
      "Train Epoch: 14 [28800/33600 (86%)]\tLoss: 0.928334\n",
      "Train Epoch: 14 [30400/33600 (90%)]\tLoss: 0.447768\n",
      "Train Epoch: 14 [32000/33600 (95%)]\tLoss: 0.521691\n",
      "Train Epoch: 14 [33600/33600 (100%)]\tLoss: 0.928709\n",
      "\n",
      "Average Val Loss: 0.2902, Val Accuracy: 7877/8400 (93.000%)\n",
      "\n",
      "Train Epoch: 15 [1600/33600 (5%)]\tLoss: 0.805251\n",
      "Train Epoch: 15 [3200/33600 (10%)]\tLoss: 0.948176\n",
      "Train Epoch: 15 [4800/33600 (14%)]\tLoss: 0.673773\n",
      "Train Epoch: 15 [6400/33600 (19%)]\tLoss: 0.516972\n",
      "Train Epoch: 15 [8000/33600 (24%)]\tLoss: 0.470766\n",
      "Train Epoch: 15 [9600/33600 (29%)]\tLoss: 0.711976\n",
      "Train Epoch: 15 [11200/33600 (33%)]\tLoss: 0.547936\n",
      "Train Epoch: 15 [12800/33600 (38%)]\tLoss: 0.349816\n",
      "Train Epoch: 15 [14400/33600 (43%)]\tLoss: 0.557266\n",
      "Train Epoch: 15 [16000/33600 (48%)]\tLoss: 0.712333\n",
      "Train Epoch: 15 [17600/33600 (52%)]\tLoss: 0.436675\n",
      "Train Epoch: 15 [19200/33600 (57%)]\tLoss: 0.809568\n",
      "Train Epoch: 15 [20800/33600 (62%)]\tLoss: 0.493307\n",
      "Train Epoch: 15 [22400/33600 (67%)]\tLoss: 0.445311\n",
      "Train Epoch: 15 [24000/33600 (71%)]\tLoss: 0.298416\n",
      "Train Epoch: 15 [25600/33600 (76%)]\tLoss: 0.521900\n",
      "Train Epoch: 15 [27200/33600 (81%)]\tLoss: 0.590557\n",
      "Train Epoch: 15 [28800/33600 (86%)]\tLoss: 0.707357\n",
      "Train Epoch: 15 [30400/33600 (90%)]\tLoss: 1.029374\n",
      "Train Epoch: 15 [32000/33600 (95%)]\tLoss: 0.957185\n",
      "Train Epoch: 15 [33600/33600 (100%)]\tLoss: 0.527164\n",
      "\n",
      "Average Val Loss: 0.2993, Val Accuracy: 7855/8400 (93.000%)\n",
      "\n",
      "Train Epoch: 16 [1600/33600 (5%)]\tLoss: 0.618675\n",
      "Train Epoch: 16 [3200/33600 (10%)]\tLoss: 0.580840\n",
      "Train Epoch: 16 [4800/33600 (14%)]\tLoss: 0.273465\n",
      "Train Epoch: 16 [6400/33600 (19%)]\tLoss: 0.550274\n",
      "Train Epoch: 16 [8000/33600 (24%)]\tLoss: 1.129582\n",
      "Train Epoch: 16 [9600/33600 (29%)]\tLoss: 0.778127\n",
      "Train Epoch: 16 [11200/33600 (33%)]\tLoss: 0.744241\n",
      "Train Epoch: 16 [12800/33600 (38%)]\tLoss: 0.433842\n",
      "Train Epoch: 16 [14400/33600 (43%)]\tLoss: 0.762529\n",
      "Train Epoch: 16 [16000/33600 (48%)]\tLoss: 0.839906\n",
      "Train Epoch: 16 [17600/33600 (52%)]\tLoss: 0.796200\n",
      "Train Epoch: 16 [19200/33600 (57%)]\tLoss: 0.997283\n",
      "Train Epoch: 16 [20800/33600 (62%)]\tLoss: 0.364356\n",
      "Train Epoch: 16 [22400/33600 (67%)]\tLoss: 0.604430\n",
      "Train Epoch: 16 [24000/33600 (71%)]\tLoss: 0.539738\n",
      "Train Epoch: 16 [25600/33600 (76%)]\tLoss: 1.619279\n",
      "Train Epoch: 16 [27200/33600 (81%)]\tLoss: 0.390755\n",
      "Train Epoch: 16 [28800/33600 (86%)]\tLoss: 1.125773\n",
      "Train Epoch: 16 [30400/33600 (90%)]\tLoss: 0.618888\n",
      "Train Epoch: 16 [32000/33600 (95%)]\tLoss: 0.646998\n",
      "Train Epoch: 16 [33600/33600 (100%)]\tLoss: 0.482495\n",
      "\n",
      "Average Val Loss: 0.2807, Val Accuracy: 7893/8400 (93.000%)\n",
      "\n",
      "Train Epoch: 17 [1600/33600 (5%)]\tLoss: 0.679121\n",
      "Train Epoch: 17 [3200/33600 (10%)]\tLoss: 0.686811\n",
      "Train Epoch: 17 [4800/33600 (14%)]\tLoss: 0.814099\n",
      "Train Epoch: 17 [6400/33600 (19%)]\tLoss: 0.389722\n",
      "Train Epoch: 17 [8000/33600 (24%)]\tLoss: 0.662261\n",
      "Train Epoch: 17 [9600/33600 (29%)]\tLoss: 0.883126\n",
      "Train Epoch: 17 [11200/33600 (33%)]\tLoss: 0.951356\n",
      "Train Epoch: 17 [12800/33600 (38%)]\tLoss: 0.664239\n",
      "Train Epoch: 17 [14400/33600 (43%)]\tLoss: 0.428946\n",
      "Train Epoch: 17 [16000/33600 (48%)]\tLoss: 0.731561\n",
      "Train Epoch: 17 [17600/33600 (52%)]\tLoss: 0.518058\n",
      "Train Epoch: 17 [19200/33600 (57%)]\tLoss: 1.154922\n",
      "Train Epoch: 17 [20800/33600 (62%)]\tLoss: 0.783869\n",
      "Train Epoch: 17 [22400/33600 (67%)]\tLoss: 1.111514\n",
      "Train Epoch: 17 [24000/33600 (71%)]\tLoss: 0.811779\n",
      "Train Epoch: 17 [25600/33600 (76%)]\tLoss: 0.581746\n",
      "Train Epoch: 17 [27200/33600 (81%)]\tLoss: 1.212809\n",
      "Train Epoch: 17 [28800/33600 (86%)]\tLoss: 0.979742\n",
      "Train Epoch: 17 [30400/33600 (90%)]\tLoss: 0.445459\n",
      "Train Epoch: 17 [32000/33600 (95%)]\tLoss: 0.614793\n",
      "Train Epoch: 17 [33600/33600 (100%)]\tLoss: 0.390222\n",
      "\n",
      "Average Val Loss: 0.3076, Val Accuracy: 7856/8400 (93.000%)\n",
      "\n",
      "Train Epoch: 18 [1600/33600 (5%)]\tLoss: 0.407148\n",
      "Train Epoch: 18 [3200/33600 (10%)]\tLoss: 0.648593\n",
      "Train Epoch: 18 [4800/33600 (14%)]\tLoss: 0.434533\n",
      "Train Epoch: 18 [6400/33600 (19%)]\tLoss: 0.776298\n",
      "Train Epoch: 18 [8000/33600 (24%)]\tLoss: 0.592639\n",
      "Train Epoch: 18 [9600/33600 (29%)]\tLoss: 0.466096\n",
      "Train Epoch: 18 [11200/33600 (33%)]\tLoss: 0.733287\n",
      "Train Epoch: 18 [12800/33600 (38%)]\tLoss: 0.958184\n",
      "Train Epoch: 18 [14400/33600 (43%)]\tLoss: 0.698927\n",
      "Train Epoch: 18 [16000/33600 (48%)]\tLoss: 0.824200\n",
      "Train Epoch: 18 [17600/33600 (52%)]\tLoss: 0.540633\n",
      "Train Epoch: 18 [19200/33600 (57%)]\tLoss: 0.604306\n",
      "Train Epoch: 18 [20800/33600 (62%)]\tLoss: 0.774494\n",
      "Train Epoch: 18 [22400/33600 (67%)]\tLoss: 0.894885\n",
      "Train Epoch: 18 [24000/33600 (71%)]\tLoss: 0.503770\n",
      "Train Epoch: 18 [25600/33600 (76%)]\tLoss: 0.455570\n",
      "Train Epoch: 18 [27200/33600 (81%)]\tLoss: 1.004169\n",
      "Train Epoch: 18 [28800/33600 (86%)]\tLoss: 0.849717\n",
      "Train Epoch: 18 [30400/33600 (90%)]\tLoss: 0.723941\n",
      "Train Epoch: 18 [32000/33600 (95%)]\tLoss: 0.930842\n",
      "Train Epoch: 18 [33600/33600 (100%)]\tLoss: 0.988853\n",
      "\n",
      "Average Val Loss: 0.3004, Val Accuracy: 7836/8400 (93.000%)\n",
      "\n",
      "Train Epoch: 19 [1600/33600 (5%)]\tLoss: 0.316341\n",
      "Train Epoch: 19 [3200/33600 (10%)]\tLoss: 0.525954\n",
      "Train Epoch: 19 [4800/33600 (14%)]\tLoss: 0.433113\n",
      "Train Epoch: 19 [6400/33600 (19%)]\tLoss: 0.527055\n",
      "Train Epoch: 19 [8000/33600 (24%)]\tLoss: 0.629400\n",
      "Train Epoch: 19 [9600/33600 (29%)]\tLoss: 0.461451\n",
      "Train Epoch: 19 [11200/33600 (33%)]\tLoss: 0.430755\n",
      "Train Epoch: 19 [12800/33600 (38%)]\tLoss: 0.903901\n",
      "Train Epoch: 19 [14400/33600 (43%)]\tLoss: 0.713437\n",
      "Train Epoch: 19 [16000/33600 (48%)]\tLoss: 0.461245\n",
      "Train Epoch: 19 [17600/33600 (52%)]\tLoss: 0.504662\n",
      "Train Epoch: 19 [19200/33600 (57%)]\tLoss: 0.921148\n",
      "Train Epoch: 19 [20800/33600 (62%)]\tLoss: 0.454971\n",
      "Train Epoch: 19 [22400/33600 (67%)]\tLoss: 0.930586\n",
      "Train Epoch: 19 [24000/33600 (71%)]\tLoss: 0.525160\n",
      "Train Epoch: 19 [25600/33600 (76%)]\tLoss: 0.637579\n",
      "Train Epoch: 19 [27200/33600 (81%)]\tLoss: 0.653888\n",
      "Train Epoch: 19 [28800/33600 (86%)]\tLoss: 0.565417\n",
      "Train Epoch: 19 [30400/33600 (90%)]\tLoss: 0.858337\n",
      "Train Epoch: 19 [32000/33600 (95%)]\tLoss: 0.344443\n",
      "Train Epoch: 19 [33600/33600 (100%)]\tLoss: 0.643137\n",
      "\n",
      "Average Val Loss: 0.3049, Val Accuracy: 7832/8400 (93.000%)\n",
      "\n",
      "Train Epoch: 20 [1600/33600 (5%)]\tLoss: 0.357218\n",
      "Train Epoch: 20 [3200/33600 (10%)]\tLoss: 1.237354\n",
      "Train Epoch: 20 [4800/33600 (14%)]\tLoss: 0.557104\n",
      "Train Epoch: 20 [6400/33600 (19%)]\tLoss: 0.490751\n",
      "Train Epoch: 20 [8000/33600 (24%)]\tLoss: 0.782126\n",
      "Train Epoch: 20 [9600/33600 (29%)]\tLoss: 0.580619\n",
      "Train Epoch: 20 [11200/33600 (33%)]\tLoss: 1.181402\n",
      "Train Epoch: 20 [12800/33600 (38%)]\tLoss: 0.663208\n",
      "Train Epoch: 20 [14400/33600 (43%)]\tLoss: 1.212750\n",
      "Train Epoch: 20 [16000/33600 (48%)]\tLoss: 0.339613\n",
      "Train Epoch: 20 [17600/33600 (52%)]\tLoss: 0.721721\n",
      "Train Epoch: 20 [19200/33600 (57%)]\tLoss: 0.738538\n",
      "Train Epoch: 20 [20800/33600 (62%)]\tLoss: 0.342290\n",
      "Train Epoch: 20 [22400/33600 (67%)]\tLoss: 0.524280\n",
      "Train Epoch: 20 [24000/33600 (71%)]\tLoss: 0.516409\n",
      "Train Epoch: 20 [25600/33600 (76%)]\tLoss: 0.618410\n",
      "Train Epoch: 20 [27200/33600 (81%)]\tLoss: 0.398536\n",
      "Train Epoch: 20 [28800/33600 (86%)]\tLoss: 0.607933\n",
      "Train Epoch: 20 [30400/33600 (90%)]\tLoss: 0.413446\n",
      "Train Epoch: 20 [32000/33600 (95%)]\tLoss: 0.369754\n",
      "Train Epoch: 20 [33600/33600 (100%)]\tLoss: 1.066629\n",
      "\n",
      "Average Val Loss: 0.2883, Val Accuracy: 7879/8400 (93.000%)\n",
      "\n",
      "Train Epoch: 21 [1600/33600 (5%)]\tLoss: 0.351068\n",
      "Train Epoch: 21 [3200/33600 (10%)]\tLoss: 0.721278\n",
      "Train Epoch: 21 [4800/33600 (14%)]\tLoss: 0.560636\n",
      "Train Epoch: 21 [6400/33600 (19%)]\tLoss: 0.624063\n",
      "Train Epoch: 21 [8000/33600 (24%)]\tLoss: 0.601440\n",
      "Train Epoch: 21 [9600/33600 (29%)]\tLoss: 0.621113\n",
      "Train Epoch: 21 [11200/33600 (33%)]\tLoss: 0.433371\n",
      "Train Epoch: 21 [12800/33600 (38%)]\tLoss: 0.592454\n",
      "Train Epoch: 21 [14400/33600 (43%)]\tLoss: 0.476066\n",
      "Train Epoch: 21 [16000/33600 (48%)]\tLoss: 0.774434\n",
      "Train Epoch: 21 [17600/33600 (52%)]\tLoss: 0.545897\n",
      "Train Epoch: 21 [19200/33600 (57%)]\tLoss: 0.365441\n",
      "Train Epoch: 21 [20800/33600 (62%)]\tLoss: 0.908890\n",
      "Train Epoch: 21 [22400/33600 (67%)]\tLoss: 0.704960\n",
      "Train Epoch: 21 [24000/33600 (71%)]\tLoss: 0.786050\n",
      "Train Epoch: 21 [25600/33600 (76%)]\tLoss: 0.865046\n",
      "Train Epoch: 21 [27200/33600 (81%)]\tLoss: 0.638747\n",
      "Train Epoch: 21 [28800/33600 (86%)]\tLoss: 0.958704\n",
      "Train Epoch: 21 [30400/33600 (90%)]\tLoss: 1.223951\n",
      "Train Epoch: 21 [32000/33600 (95%)]\tLoss: 0.483394\n",
      "Train Epoch: 21 [33600/33600 (100%)]\tLoss: 0.480125\n",
      "\n",
      "Average Val Loss: 0.3030, Val Accuracy: 7855/8400 (93.000%)\n",
      "\n",
      "Train Epoch: 22 [1600/33600 (5%)]\tLoss: 0.577607\n",
      "Train Epoch: 22 [3200/33600 (10%)]\tLoss: 0.846783\n",
      "Train Epoch: 22 [4800/33600 (14%)]\tLoss: 0.640493\n",
      "Train Epoch: 22 [6400/33600 (19%)]\tLoss: 0.474399\n",
      "Train Epoch: 22 [8000/33600 (24%)]\tLoss: 0.538857\n",
      "Train Epoch: 22 [9600/33600 (29%)]\tLoss: 0.576914\n",
      "Train Epoch: 22 [11200/33600 (33%)]\tLoss: 0.816002\n",
      "Train Epoch: 22 [12800/33600 (38%)]\tLoss: 0.289743\n",
      "Train Epoch: 22 [14400/33600 (43%)]\tLoss: 0.312507\n",
      "Train Epoch: 22 [16000/33600 (48%)]\tLoss: 0.584889\n",
      "Train Epoch: 22 [17600/33600 (52%)]\tLoss: 0.700547\n",
      "Train Epoch: 22 [19200/33600 (57%)]\tLoss: 0.964932\n",
      "Train Epoch: 22 [20800/33600 (62%)]\tLoss: 0.945833\n",
      "Train Epoch: 22 [22400/33600 (67%)]\tLoss: 0.686006\n",
      "Train Epoch: 22 [24000/33600 (71%)]\tLoss: 0.982366\n",
      "Train Epoch: 22 [25600/33600 (76%)]\tLoss: 0.661022\n",
      "Train Epoch: 22 [27200/33600 (81%)]\tLoss: 0.725786\n",
      "Train Epoch: 22 [28800/33600 (86%)]\tLoss: 0.588187\n",
      "Train Epoch: 22 [30400/33600 (90%)]\tLoss: 0.521712\n",
      "Train Epoch: 22 [32000/33600 (95%)]\tLoss: 0.892151\n",
      "Train Epoch: 22 [33600/33600 (100%)]\tLoss: 0.650218\n",
      "\n",
      "Average Val Loss: 0.3035, Val Accuracy: 7848/8400 (93.000%)\n",
      "\n",
      "Train Epoch: 23 [1600/33600 (5%)]\tLoss: 0.352468\n",
      "Train Epoch: 23 [3200/33600 (10%)]\tLoss: 0.665306\n",
      "Train Epoch: 23 [4800/33600 (14%)]\tLoss: 0.864121\n",
      "Train Epoch: 23 [6400/33600 (19%)]\tLoss: 0.456542\n",
      "Train Epoch: 23 [8000/33600 (24%)]\tLoss: 0.449087\n",
      "Train Epoch: 23 [9600/33600 (29%)]\tLoss: 0.741348\n",
      "Train Epoch: 23 [11200/33600 (33%)]\tLoss: 0.584934\n",
      "Train Epoch: 23 [12800/33600 (38%)]\tLoss: 0.751781\n",
      "Train Epoch: 23 [14400/33600 (43%)]\tLoss: 0.471620\n",
      "Train Epoch: 23 [16000/33600 (48%)]\tLoss: 0.849036\n",
      "Train Epoch: 23 [17600/33600 (52%)]\tLoss: 0.624818\n",
      "Train Epoch: 23 [19200/33600 (57%)]\tLoss: 0.467223\n",
      "Train Epoch: 23 [20800/33600 (62%)]\tLoss: 0.488369\n",
      "Train Epoch: 23 [22400/33600 (67%)]\tLoss: 0.564187\n",
      "Train Epoch: 23 [24000/33600 (71%)]\tLoss: 0.917373\n",
      "Train Epoch: 23 [25600/33600 (76%)]\tLoss: 0.415728\n",
      "Train Epoch: 23 [27200/33600 (81%)]\tLoss: 0.418047\n",
      "Train Epoch: 23 [28800/33600 (86%)]\tLoss: 0.581132\n",
      "Train Epoch: 23 [30400/33600 (90%)]\tLoss: 0.498793\n",
      "Train Epoch: 23 [32000/33600 (95%)]\tLoss: 1.109166\n",
      "Train Epoch: 23 [33600/33600 (100%)]\tLoss: 0.305949\n",
      "\n",
      "Average Val Loss: 0.3012, Val Accuracy: 7861/8400 (93.000%)\n",
      "\n",
      "Train Epoch: 24 [1600/33600 (5%)]\tLoss: 1.095853\n",
      "Train Epoch: 24 [3200/33600 (10%)]\tLoss: 0.576421\n",
      "Train Epoch: 24 [4800/33600 (14%)]\tLoss: 0.423135\n",
      "Train Epoch: 24 [6400/33600 (19%)]\tLoss: 0.501167\n",
      "Train Epoch: 24 [8000/33600 (24%)]\tLoss: 0.546470\n",
      "Train Epoch: 24 [9600/33600 (29%)]\tLoss: 0.646795\n",
      "Train Epoch: 24 [11200/33600 (33%)]\tLoss: 0.582877\n",
      "Train Epoch: 24 [12800/33600 (38%)]\tLoss: 0.683825\n",
      "Train Epoch: 24 [14400/33600 (43%)]\tLoss: 0.651183\n",
      "Train Epoch: 24 [16000/33600 (48%)]\tLoss: 0.568768\n",
      "Train Epoch: 24 [17600/33600 (52%)]\tLoss: 0.843548\n",
      "Train Epoch: 24 [19200/33600 (57%)]\tLoss: 0.549766\n",
      "Train Epoch: 24 [20800/33600 (62%)]\tLoss: 0.551790\n",
      "Train Epoch: 24 [22400/33600 (67%)]\tLoss: 0.786761\n",
      "Train Epoch: 24 [24000/33600 (71%)]\tLoss: 0.507338\n",
      "Train Epoch: 24 [25600/33600 (76%)]\tLoss: 0.511240\n",
      "Train Epoch: 24 [27200/33600 (81%)]\tLoss: 0.607689\n",
      "Train Epoch: 24 [28800/33600 (86%)]\tLoss: 0.848304\n",
      "Train Epoch: 24 [30400/33600 (90%)]\tLoss: 0.653595\n",
      "Train Epoch: 24 [32000/33600 (95%)]\tLoss: 0.868632\n",
      "Train Epoch: 24 [33600/33600 (100%)]\tLoss: 0.648157\n",
      "\n",
      "Average Val Loss: 0.2983, Val Accuracy: 7880/8400 (93.000%)\n",
      "\n"
     ]
    }
   ],
   "source": [
    "num_epochs = 25\n",
    "\n",
    "for n in range(num_epochs):\n",
    "    train_model(n)\n",
    "    evaluate(val_loader)"
   ]
  },
  {
   "cell_type": "code",
   "execution_count": 57,
   "metadata": {},
   "outputs": [],
   "source": [
    "class LeNet(nn.Module):\n",
    "    def __init__(self):\n",
    "        super(LeNet, self).__init__()\n",
    "\n",
    "        # input channel = 1, output channel = 6, kernel_size = 5\n",
    "        # input size = (32, 32), output size = (28, 28)\n",
    "        self.conv1 = nn.Conv2d(1, 6, 5)\n",
    "        # input channel = 6, output channel = 16, kernel_size = 5\n",
    "        # input size = (14, 14), output size = (10, 10)\n",
    "        self.conv2 = nn.Conv2d(6, 16, 5)\n",
    "        # input dim = 16*5*5, output dim = 120\n",
    "        self.fc1 = nn.Linear(16 * 5 * 5, 120)\n",
    "        # input dim = 120, output dim = 84\n",
    "        self.fc2 = nn.Linear(120, 84)\n",
    "        # input dim = 84, output dim = 10\n",
    "        self.fc3 = nn.Linear(84, 10)\n",
    "\n",
    "    def forward(self, x):\n",
    "        # pool size = 2\n",
    "        # input size = (28, 28), output size = (14, 14), output channel = 6\n",
    "        x = F.max_pool2d(F.relu(self.conv1(x)), 2)\n",
    "        # pool size = 2\n",
    "        # input size = (10, 10), output size = (5, 5), output channel = 16\n",
    "        x = F.max_pool2d(F.relu(self.conv2(x)), 2)\n",
    "        # flatten as one dimension\n",
    "        x = x.view(x.size()[0], -1)\n",
    "        # input dim = 16*5*5, output dim = 120\n",
    "        x = F.relu(self.fc1(x))\n",
    "        # input dim = 120, output dim = 84\n",
    "        x = F.relu(self.fc2(x))\n",
    "        # input dim = 84, output dim = 10\n",
    "        x = self.fc3(x)\n",
    "        return x"
   ]
  },
  {
   "cell_type": "code",
   "execution_count": 58,
   "metadata": {},
   "outputs": [],
   "source": [
    "model = LeNet()\n",
    "model = model.double()\n",
    "criterion = nn.CrossEntropyLoss()\n",
    "optimizer = torch.optim.Adam(model.parameters(),lr=0.003)"
   ]
  },
  {
   "cell_type": "code",
   "execution_count": 59,
   "metadata": {},
   "outputs": [
    {
     "ename": "RuntimeError",
     "evalue": "Input type (torch.FloatTensor) and weight type (torch.DoubleTensor) should be the same",
     "output_type": "error",
     "traceback": [
      "\u001b[0;31m---------------------------------------------------------------------------\u001b[0m",
      "\u001b[0;31mRuntimeError\u001b[0m                              Traceback (most recent call last)",
      "\u001b[0;32m<ipython-input-59-0d9b67836836>\u001b[0m in \u001b[0;36m<module>\u001b[0;34m\u001b[0m\n\u001b[1;32m      9\u001b[0m         \u001b[0moptimizer\u001b[0m\u001b[0;34m.\u001b[0m\u001b[0mzero_grad\u001b[0m\u001b[0;34m(\u001b[0m\u001b[0;34m)\u001b[0m\u001b[0;34m\u001b[0m\u001b[0;34m\u001b[0m\u001b[0m\n\u001b[1;32m     10\u001b[0m \u001b[0;34m\u001b[0m\u001b[0m\n\u001b[0;32m---> 11\u001b[0;31m         \u001b[0moutput\u001b[0m \u001b[0;34m=\u001b[0m \u001b[0mmodel\u001b[0m\u001b[0;34m(\u001b[0m\u001b[0mtrain\u001b[0m\u001b[0;34m)\u001b[0m\u001b[0;34m\u001b[0m\u001b[0;34m\u001b[0m\u001b[0m\n\u001b[0m\u001b[1;32m     12\u001b[0m         \u001b[0mloss\u001b[0m \u001b[0;34m=\u001b[0m \u001b[0mcriterion\u001b[0m\u001b[0;34m(\u001b[0m\u001b[0moutput\u001b[0m\u001b[0;34m,\u001b[0m\u001b[0mlabels\u001b[0m\u001b[0;34m)\u001b[0m\u001b[0;34m\u001b[0m\u001b[0;34m\u001b[0m\u001b[0m\n\u001b[1;32m     13\u001b[0m         \u001b[0mloss\u001b[0m\u001b[0;34m.\u001b[0m\u001b[0mbackward\u001b[0m\u001b[0;34m(\u001b[0m\u001b[0;34m)\u001b[0m\u001b[0;34m\u001b[0m\u001b[0;34m\u001b[0m\u001b[0m\n",
      "\u001b[0;32m~/miniconda3/envs/pytorch/lib/python3.7/site-packages/torch/nn/modules/module.py\u001b[0m in \u001b[0;36m__call__\u001b[0;34m(self, *input, **kwargs)\u001b[0m\n\u001b[1;32m    487\u001b[0m             \u001b[0mresult\u001b[0m \u001b[0;34m=\u001b[0m \u001b[0mself\u001b[0m\u001b[0;34m.\u001b[0m\u001b[0m_slow_forward\u001b[0m\u001b[0;34m(\u001b[0m\u001b[0;34m*\u001b[0m\u001b[0minput\u001b[0m\u001b[0;34m,\u001b[0m \u001b[0;34m**\u001b[0m\u001b[0mkwargs\u001b[0m\u001b[0;34m)\u001b[0m\u001b[0;34m\u001b[0m\u001b[0;34m\u001b[0m\u001b[0m\n\u001b[1;32m    488\u001b[0m         \u001b[0;32melse\u001b[0m\u001b[0;34m:\u001b[0m\u001b[0;34m\u001b[0m\u001b[0;34m\u001b[0m\u001b[0m\n\u001b[0;32m--> 489\u001b[0;31m             \u001b[0mresult\u001b[0m \u001b[0;34m=\u001b[0m \u001b[0mself\u001b[0m\u001b[0;34m.\u001b[0m\u001b[0mforward\u001b[0m\u001b[0;34m(\u001b[0m\u001b[0;34m*\u001b[0m\u001b[0minput\u001b[0m\u001b[0;34m,\u001b[0m \u001b[0;34m**\u001b[0m\u001b[0mkwargs\u001b[0m\u001b[0;34m)\u001b[0m\u001b[0;34m\u001b[0m\u001b[0;34m\u001b[0m\u001b[0m\n\u001b[0m\u001b[1;32m    490\u001b[0m         \u001b[0;32mfor\u001b[0m \u001b[0mhook\u001b[0m \u001b[0;32min\u001b[0m \u001b[0mself\u001b[0m\u001b[0;34m.\u001b[0m\u001b[0m_forward_hooks\u001b[0m\u001b[0;34m.\u001b[0m\u001b[0mvalues\u001b[0m\u001b[0;34m(\u001b[0m\u001b[0;34m)\u001b[0m\u001b[0;34m:\u001b[0m\u001b[0;34m\u001b[0m\u001b[0;34m\u001b[0m\u001b[0m\n\u001b[1;32m    491\u001b[0m             \u001b[0mhook_result\u001b[0m \u001b[0;34m=\u001b[0m \u001b[0mhook\u001b[0m\u001b[0;34m(\u001b[0m\u001b[0mself\u001b[0m\u001b[0;34m,\u001b[0m \u001b[0minput\u001b[0m\u001b[0;34m,\u001b[0m \u001b[0mresult\u001b[0m\u001b[0;34m)\u001b[0m\u001b[0;34m\u001b[0m\u001b[0;34m\u001b[0m\u001b[0m\n",
      "\u001b[0;32m<ipython-input-57-602cf5e56c5a>\u001b[0m in \u001b[0;36mforward\u001b[0;34m(self, x)\u001b[0m\n\u001b[1;32m     19\u001b[0m         \u001b[0;31m# pool size = 2\u001b[0m\u001b[0;34m\u001b[0m\u001b[0;34m\u001b[0m\u001b[0;34m\u001b[0m\u001b[0m\n\u001b[1;32m     20\u001b[0m         \u001b[0;31m# input size = (28, 28), output size = (14, 14), output channel = 6\u001b[0m\u001b[0;34m\u001b[0m\u001b[0;34m\u001b[0m\u001b[0;34m\u001b[0m\u001b[0m\n\u001b[0;32m---> 21\u001b[0;31m         \u001b[0mx\u001b[0m \u001b[0;34m=\u001b[0m \u001b[0mF\u001b[0m\u001b[0;34m.\u001b[0m\u001b[0mmax_pool2d\u001b[0m\u001b[0;34m(\u001b[0m\u001b[0mF\u001b[0m\u001b[0;34m.\u001b[0m\u001b[0mrelu\u001b[0m\u001b[0;34m(\u001b[0m\u001b[0mself\u001b[0m\u001b[0;34m.\u001b[0m\u001b[0mconv1\u001b[0m\u001b[0;34m(\u001b[0m\u001b[0mx\u001b[0m\u001b[0;34m)\u001b[0m\u001b[0;34m)\u001b[0m\u001b[0;34m,\u001b[0m \u001b[0;36m2\u001b[0m\u001b[0;34m)\u001b[0m\u001b[0;34m\u001b[0m\u001b[0;34m\u001b[0m\u001b[0m\n\u001b[0m\u001b[1;32m     22\u001b[0m         \u001b[0;31m# pool size = 2\u001b[0m\u001b[0;34m\u001b[0m\u001b[0;34m\u001b[0m\u001b[0;34m\u001b[0m\u001b[0m\n\u001b[1;32m     23\u001b[0m         \u001b[0;31m# input size = (10, 10), output size = (5, 5), output channel = 16\u001b[0m\u001b[0;34m\u001b[0m\u001b[0;34m\u001b[0m\u001b[0;34m\u001b[0m\u001b[0m\n",
      "\u001b[0;32m~/miniconda3/envs/pytorch/lib/python3.7/site-packages/torch/nn/modules/module.py\u001b[0m in \u001b[0;36m__call__\u001b[0;34m(self, *input, **kwargs)\u001b[0m\n\u001b[1;32m    487\u001b[0m             \u001b[0mresult\u001b[0m \u001b[0;34m=\u001b[0m \u001b[0mself\u001b[0m\u001b[0;34m.\u001b[0m\u001b[0m_slow_forward\u001b[0m\u001b[0;34m(\u001b[0m\u001b[0;34m*\u001b[0m\u001b[0minput\u001b[0m\u001b[0;34m,\u001b[0m \u001b[0;34m**\u001b[0m\u001b[0mkwargs\u001b[0m\u001b[0;34m)\u001b[0m\u001b[0;34m\u001b[0m\u001b[0;34m\u001b[0m\u001b[0m\n\u001b[1;32m    488\u001b[0m         \u001b[0;32melse\u001b[0m\u001b[0;34m:\u001b[0m\u001b[0;34m\u001b[0m\u001b[0;34m\u001b[0m\u001b[0m\n\u001b[0;32m--> 489\u001b[0;31m             \u001b[0mresult\u001b[0m \u001b[0;34m=\u001b[0m \u001b[0mself\u001b[0m\u001b[0;34m.\u001b[0m\u001b[0mforward\u001b[0m\u001b[0;34m(\u001b[0m\u001b[0;34m*\u001b[0m\u001b[0minput\u001b[0m\u001b[0;34m,\u001b[0m \u001b[0;34m**\u001b[0m\u001b[0mkwargs\u001b[0m\u001b[0;34m)\u001b[0m\u001b[0;34m\u001b[0m\u001b[0;34m\u001b[0m\u001b[0m\n\u001b[0m\u001b[1;32m    490\u001b[0m         \u001b[0;32mfor\u001b[0m \u001b[0mhook\u001b[0m \u001b[0;32min\u001b[0m \u001b[0mself\u001b[0m\u001b[0;34m.\u001b[0m\u001b[0m_forward_hooks\u001b[0m\u001b[0;34m.\u001b[0m\u001b[0mvalues\u001b[0m\u001b[0;34m(\u001b[0m\u001b[0;34m)\u001b[0m\u001b[0;34m:\u001b[0m\u001b[0;34m\u001b[0m\u001b[0;34m\u001b[0m\u001b[0m\n\u001b[1;32m    491\u001b[0m             \u001b[0mhook_result\u001b[0m \u001b[0;34m=\u001b[0m \u001b[0mhook\u001b[0m\u001b[0;34m(\u001b[0m\u001b[0mself\u001b[0m\u001b[0;34m,\u001b[0m \u001b[0minput\u001b[0m\u001b[0;34m,\u001b[0m \u001b[0mresult\u001b[0m\u001b[0;34m)\u001b[0m\u001b[0;34m\u001b[0m\u001b[0;34m\u001b[0m\u001b[0m\n",
      "\u001b[0;32m~/miniconda3/envs/pytorch/lib/python3.7/site-packages/torch/nn/modules/conv.py\u001b[0m in \u001b[0;36mforward\u001b[0;34m(self, input)\u001b[0m\n\u001b[1;32m    318\u001b[0m     \u001b[0;32mdef\u001b[0m \u001b[0mforward\u001b[0m\u001b[0;34m(\u001b[0m\u001b[0mself\u001b[0m\u001b[0;34m,\u001b[0m \u001b[0minput\u001b[0m\u001b[0;34m)\u001b[0m\u001b[0;34m:\u001b[0m\u001b[0;34m\u001b[0m\u001b[0;34m\u001b[0m\u001b[0m\n\u001b[1;32m    319\u001b[0m         return F.conv2d(input, self.weight, self.bias, self.stride,\n\u001b[0;32m--> 320\u001b[0;31m                         self.padding, self.dilation, self.groups)\n\u001b[0m\u001b[1;32m    321\u001b[0m \u001b[0;34m\u001b[0m\u001b[0m\n\u001b[1;32m    322\u001b[0m \u001b[0;34m\u001b[0m\u001b[0m\n",
      "\u001b[0;31mRuntimeError\u001b[0m: Input type (torch.FloatTensor) and weight type (torch.DoubleTensor) should be the same"
     ]
    }
   ],
   "source": [
    "epochs = 15\n",
    "train_losses, test_losses = [] ,[]\n",
    "for epoch in range(epochs):\n",
    "    running_loss = 0\n",
    "    for images,labels in train_loader:\n",
    "        train = Variable(images.view(-1,1,28,28))\n",
    "        labels = Variable(labels)\n",
    "        \n",
    "        optimizer.zero_grad()\n",
    "        \n",
    "        output = model(train)\n",
    "        loss = criterion(output,labels)\n",
    "        loss.backward()\n",
    "        optimizer.step()\n",
    "        \n",
    "        running_loss += loss.item()\n",
    "    else:\n",
    "        test_loss = 0\n",
    "        accuracy = 0\n",
    "        \n",
    "        with torch.no_grad(): #Turning off gradients to speed up\n",
    "            model.eval()\n",
    "            for images,labels in test_loader:\n",
    "                \n",
    "                test = Variable(images.view(-1,1,28,28))\n",
    "                labels = Variable(labels)\n",
    "                \n",
    "                log_ps = model(test)\n",
    "                test_loss += criterion(log_ps,labels)\n",
    "                \n",
    "                ps = torch.exp(log_ps)\n",
    "                top_p, top_class = ps.topk(1, dim = 1)\n",
    "                equals = top_class == labels.view(*top_class.shape)\n",
    "                accuracy += torch.mean(equals.type(torch.FloatTensor))\n",
    "        model.train()        \n",
    "        train_losses.append(running_loss/len(train_loader))\n",
    "        test_losses.append(test_loss/len(test_loader))\n",
    "\n",
    "        print(\"Epoch: {}/{}.. \".format(epoch+1, epochs),\n",
    "              \"Training Loss: {:.3f}.. \".format(running_loss/len(train_loader)),\n",
    "              \"Test Loss: {:.3f}.. \".format(test_loss/len(test_loader)),\n",
    "              \"Test Accuracy: {:.3f}\".format(accuracy/len(test_loader)))"
   ]
  },
  {
   "cell_type": "code",
   "execution_count": null,
   "metadata": {},
   "outputs": [],
   "source": []
  }
 ],
 "metadata": {
  "kernelspec": {
   "display_name": "pytorch",
   "language": "python",
   "name": "pytorch"
  },
  "language_info": {
   "codemirror_mode": {
    "name": "ipython",
    "version": 3
   },
   "file_extension": ".py",
   "mimetype": "text/x-python",
   "name": "python",
   "nbconvert_exporter": "python",
   "pygments_lexer": "ipython3",
   "version": "3.7.3"
  }
 },
 "nbformat": 4,
 "nbformat_minor": 4
}
